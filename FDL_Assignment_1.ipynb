{
  "nbformat": 4,
  "nbformat_minor": 0,
  "metadata": {
    "colab": {
      "provenance": [],
      "authorship_tag": "ABX9TyNghiE06u5FxjRdg1Xo8so6",
      "include_colab_link": true
    },
    "kernelspec": {
      "name": "python3",
      "display_name": "Python 3"
    },
    "language_info": {
      "name": "python"
    }
  },
  "cells": [
    {
      "cell_type": "markdown",
      "metadata": {
        "id": "view-in-github",
        "colab_type": "text"
      },
      "source": [
        "<a href=\"https://colab.research.google.com/github/RutujKhare1/CS6910_Assignment_1/blob/main/FDL_Assignment_1.ipynb\" target=\"_parent\"><img src=\"https://colab.research.google.com/assets/colab-badge.svg\" alt=\"Open In Colab\"/></a>"
      ]
    },
    {
      "cell_type": "code",
      "execution_count": 1,
      "metadata": {
        "id": "OGNmUu8HCDUH"
      },
      "outputs": [],
      "source": [
        "from keras.datasets import fashion_mnist\n",
        "import matplotlib.pyplot as plt\n",
        "import numpy as np"
      ]
    },
    {
      "cell_type": "code",
      "source": [
        "(X_train, y_train), (X_test, y_test) = fashion_mnist.load_data()\n",
        "num_label = 10\n",
        "num_samples = len(X_train)"
      ],
      "metadata": {
        "id": "9PzAPWydDWfc",
        "colab": {
          "base_uri": "https://localhost:8080/"
        },
        "outputId": "8f9013df-b633-4968-8c51-1738920e36dc"
      },
      "execution_count": 2,
      "outputs": [
        {
          "output_type": "stream",
          "name": "stdout",
          "text": [
            "Downloading data from https://storage.googleapis.com/tensorflow/tf-keras-datasets/train-labels-idx1-ubyte.gz\n",
            "29515/29515 [==============================] - 0s 0us/step\n",
            "Downloading data from https://storage.googleapis.com/tensorflow/tf-keras-datasets/train-images-idx3-ubyte.gz\n",
            "26421880/26421880 [==============================] - 1s 0us/step\n",
            "Downloading data from https://storage.googleapis.com/tensorflow/tf-keras-datasets/t10k-labels-idx1-ubyte.gz\n",
            "5148/5148 [==============================] - 0s 0us/step\n",
            "Downloading data from https://storage.googleapis.com/tensorflow/tf-keras-datasets/t10k-images-idx3-ubyte.gz\n",
            "4422102/4422102 [==============================] - 0s 0us/step\n"
          ]
        }
      ]
    },
    {
      "cell_type": "code",
      "source": [
        "print(\"Train shape : {}, {}\".format(X_train.shape, y_train.shape))\n",
        "print(\"Test shape : {}, {}\".format(X_test.shape, y_test.shape))"
      ],
      "metadata": {
        "colab": {
          "base_uri": "https://localhost:8080/"
        },
        "id": "IuyyHY0_EInl",
        "outputId": "0b86acaa-89a0-41e2-b8f5-2b7cdc69e975"
      },
      "execution_count": 3,
      "outputs": [
        {
          "output_type": "stream",
          "name": "stdout",
          "text": [
            "Train shape : (60000, 28, 28), (60000,)\n",
            "Test shape : (10000, 28, 28), (10000,)\n"
          ]
        }
      ]
    },
    {
      "cell_type": "markdown",
      "source": [
        "# Question 1"
      ],
      "metadata": {
        "id": "yPTwJqSlPRfI"
      }
    },
    {
      "cell_type": "code",
      "source": [
        "num_row = 2\n",
        "num_col = 5\n",
        "\n",
        "cnt = 30\n",
        "images = X_train[:cnt]\n",
        "labels = y_train[:cnt]\n",
        "dic = {0:'T-shirt', 1:'Trowser', 2:'Pullover', 3:'Dress', 4:'Coat', 5:'Sandal', 6:'Shirt', 7:'Sneaker', 8:'Bag', 9:'Ankle Boot'}\n",
        "\n",
        "visited = [True for i in range(10)]\n",
        "r_idx = 0\n",
        "c_idx = 0\n",
        "fig, axes = plt.subplots(num_row, num_col, figsize=(2*num_col, 2*num_row))\n",
        "for i in range(cnt):\n",
        "  if(visited[labels[i]]):\n",
        "    if(c_idx == num_col):\n",
        "      r_idx = 1\n",
        "      c_idx = 0\n",
        "    visited[labels[i]] = False\n",
        "    ax = axes[r_idx, c_idx]\n",
        "    ax.imshow(images[i], cmap='gray')\n",
        "    ax.set_title('{}'.format(dic[labels[i]]))\n",
        "    c_idx += 1 \n",
        "plt.tight_layout()\n",
        "plt.show()"
      ],
      "metadata": {
        "colab": {
          "base_uri": "https://localhost:8080/",
          "height": 300
        },
        "id": "0UkdOq_aE8MP",
        "outputId": "7373c77b-73b7-4089-d1d5-259d75f441d0"
      },
      "execution_count": 4,
      "outputs": [
        {
          "output_type": "display_data",
          "data": {
            "text/plain": [
              "<Figure size 720x288 with 10 Axes>"
            ],
            "image/png": "[encoded data removed]"
          },
          "metadata": {
            "needs_background": "light"
          }
        }
      ]
    },
    {
      "cell_type": "markdown",
      "source": [],
      "metadata": {
        "id": "X9IwYUvqPZGG"
      }
    },
    {
      "cell_type": "markdown",
      "source": [
        "#Question 2"
      ],
      "metadata": {
        "id": "MqNF9yyP395T"
      }
    },
    {
      "cell_type": "code",
      "source": [
        "#activation functions\n",
        "\n",
        "def sigmoid(x):\n",
        "  return 1/(1+np.exp(-x))\n",
        "\n",
        "def softmax(x):\n",
        "  e_x = np.exp(x - max(x))\n",
        "  return e_x / e_x.sum()\n"
      ],
      "metadata": {
        "id": "Yg3eZLq5-l5B"
      },
      "execution_count": 5,
      "outputs": []
    },
    {
      "cell_type": "code",
      "source": [
        "# num_layers = 5\n",
        "# hidden_size = 4\n",
        "# num_labels = num_label\n",
        "# xdim = 60000\n",
        "# ydim = 784\n",
        "# w = list()\n",
        "# b = list()\n",
        "# w.append(np.random.rand(ydim, hidden_size))\n",
        "# b.append(np.random.rand(hidden_size))\n",
        "# for i in range(num_layers-1):\n",
        "#   w.append(np.random.rand(hidden_size, hidden_size))\n",
        "#   b.append(np.random.rand(hidden_size))\n",
        "# w.append(np.random.rand(hidden_size, num_labels))\n",
        "# b.append(num_labels)\n",
        "# X = np.reshape(X_train, (60000,784))\n",
        "# W = w\n",
        "# B = b"
      ],
      "metadata": {
        "id": "BCnTKNpSHThn"
      },
      "execution_count": 13,
      "outputs": []
    },
    {
      "cell_type": "code",
      "source": [
        "# cur_op = np.array([W[0].T@x + B[0] for x in X])\n",
        "# cur_op = sigmoid(cur_op)\n",
        "# cur_ip = cur_op\n",
        "# print(cur_ip.shape)\n",
        "\n",
        "# for i in range(num_layers-1):\n",
        "#   cur_op =  np.array([W[i+1].T@x + B[i+1] for x in cur_ip])\n",
        "#   cur_op = sigmoid(cur_op)\n",
        "#   cur_ip = cur_op\n",
        "\n",
        "# cur_op = np.array([W[num_layers].T@x + B[num_layers] for x in cur_ip])\n",
        "# cur_op = np.array([softmax(i) for i in cur_op])\n",
        "# print(cur_op.shape)"
      ],
      "metadata": {
        "colab": {
          "base_uri": "https://localhost:8080/"
        },
        "id": "PoTtKlNiz-M4",
        "outputId": "1f73594a-a39c-47ea-fc5e-9003d4e971fa"
      },
      "execution_count": 25,
      "outputs": [
        {
          "output_type": "stream",
          "name": "stdout",
          "text": [
            "(60000, 4)\n",
            "(60000, 10)\n"
          ]
        }
      ]
    },
    {
      "cell_type": "code",
      "source": [
        "X = np.reshape(X_train, (60000,784))\n",
        "class feedforwardNeuralNetwork:\n",
        "  def __init__(self, num_layers = 5, hidden_size = 4, xdim = 60000, ydim = 784, num_labels = 10):\n",
        "    self.num_layers = num_layers\n",
        "    self.hidden_size = hidden_size\n",
        "    self.xdim = xdim\n",
        "    self.ydim = ydim\n",
        "    self.num_labels = num_labels\n",
        "    w = list()\n",
        "    b = list()\n",
        "    w.append(np.random.rand(ydim, hidden_size))\n",
        "    b.append(np.random.rand(hidden_size))\n",
        "    for i in range(num_layers-1):\n",
        "      w.append(np.random.rand(hidden_size, hidden_size))\n",
        "      b.append(np.random.rand(hidden_size))\n",
        "    w.append(np.random.rand(hidden_size, num_labels))\n",
        "    b.append(num_labels)\n",
        "    self.W = w\n",
        "    self.B = b\n",
        "  \n",
        "  def feedForward(self):\n",
        "    cur_op = np.array([self.W[0].T@x + self.B[0] for x in X])\n",
        "    cur_op = sigmoid(cur_op)\n",
        "    cur_ip = cur_op\n",
        "    # print(cur_ip.shape)\n",
        "\n",
        "    for i in range(self.num_layers-1):\n",
        "      cur_op =  np.array([self.W[i+1].T@x + self.B[i+1] for x in cur_ip])\n",
        "      cur_op = sigmoid(cur_op)\n",
        "      cur_ip = cur_op\n",
        "\n",
        "    cur_op = np.array([self.W[self.num_layers].T@x + self.B[self.num_layers] for x in cur_ip])\n",
        "    cur_op = np.array([softmax(i) for i in cur_op])\n",
        "    print(cur_op.shape)\n",
        "      \n",
        "    \n",
        "    "
      ],
      "metadata": {
        "id": "k79E-W6SIkIl"
      },
      "execution_count": 13,
      "outputs": []
    },
    {
      "cell_type": "code",
      "source": [
        "F = feedforwardNeuralNetwork()\n",
        "F.feedForward()"
      ],
      "metadata": {
        "colab": {
          "base_uri": "https://localhost:8080/"
        },
        "id": "xCO_19qZ-kgH",
        "outputId": "aef0fde2-67f4-415d-d4f3-735c8576810b"
      },
      "execution_count": 14,
      "outputs": [
        {
          "output_type": "stream",
          "name": "stdout",
          "text": [
            "(60000, 10)\n"
          ]
        }
      ]
    }
  ]
}