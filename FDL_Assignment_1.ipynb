{
  "nbformat": 4,
  "nbformat_minor": 0,
  "metadata": {
    "colab": {
      "provenance": [],
      "authorship_tag": "ABX9TyNr5SUSP5t3OXKK1dC9BdvB",
      "include_colab_link": true
    },
    "kernelspec": {
      "name": "python3",
      "display_name": "Python 3"
    },
    "language_info": {
      "name": "python"
    }
  },
  "cells": [
    {
      "cell_type": "markdown",
      "metadata": {
        "id": "view-in-github",
        "colab_type": "text"
      },
      "source": [
        "<a href=\"https://colab.research.google.com/github/RutujKhare1/CS6910_Assignment_1/blob/main/FDL_Assignment_1.ipynb\" target=\"_parent\"><img src=\"https://colab.research.google.com/assets/colab-badge.svg\" alt=\"Open In Colab\"/></a>"
      ]
    },
    {
      "cell_type": "code",
      "execution_count": 1,
      "metadata": {
        "id": "OGNmUu8HCDUH"
      },
      "outputs": [],
      "source": [
        "from keras.datasets import fashion_mnist\n",
        "import matplotlib.pyplot as plt\n",
        "import numpy as np"
      ]
    },
    {
      "cell_type": "code",
      "source": [
        "(X_train, y_train), (X_test, y_test) = fashion_mnist.load_data()\n",
        "num_label = 10\n",
        "num_samples = len(X_train)"
      ],
      "metadata": {
        "id": "9PzAPWydDWfc",
        "colab": {
          "base_uri": "https://localhost:8080/"
        },
        "outputId": "4a475f84-5f69-4ea1-a732-95a7a3c9e08c"
      },
      "execution_count": 2,
      "outputs": [
        {
          "output_type": "stream",
          "name": "stdout",
          "text": [
            "Downloading data from https://storage.googleapis.com/tensorflow/tf-keras-datasets/train-labels-idx1-ubyte.gz\n",
            "29515/29515 [==============================] - 0s 0us/step\n",
            "Downloading data from https://storage.googleapis.com/tensorflow/tf-keras-datasets/train-images-idx3-ubyte.gz\n",
            "26421880/26421880 [==============================] - 0s 0us/step\n",
            "Downloading data from https://storage.googleapis.com/tensorflow/tf-keras-datasets/t10k-labels-idx1-ubyte.gz\n",
            "5148/5148 [==============================] - 0s 0us/step\n",
            "Downloading data from https://storage.googleapis.com/tensorflow/tf-keras-datasets/t10k-images-idx3-ubyte.gz\n",
            "4422102/4422102 [==============================] - 0s 0us/step\n"
          ]
        }
      ]
    },
    {
      "cell_type": "code",
      "source": [
        "print(\"Train shape : {}, {}\".format(X_train.shape, y_train.shape))\n",
        "print(\"Test shape : {}, {}\".format(X_test.shape, y_test.shape))"
      ],
      "metadata": {
        "colab": {
          "base_uri": "https://localhost:8080/"
        },
        "id": "IuyyHY0_EInl",
        "outputId": "9346708e-05ac-425d-d34f-d416fb9b8338"
      },
      "execution_count": 3,
      "outputs": [
        {
          "output_type": "stream",
          "name": "stdout",
          "text": [
            "Train shape : (60000, 28, 28), (60000,)\n",
            "Test shape : (10000, 28, 28), (10000,)\n"
          ]
        }
      ]
    },
    {
      "cell_type": "markdown",
      "source": [
        "# Question 1"
      ],
      "metadata": {
        "id": "yPTwJqSlPRfI"
      }
    },
    {
      "cell_type": "code",
      "source": [
        "num_row = 2\n",
        "num_col = 5\n",
        "\n",
        "cnt = 30\n",
        "images = X_train[:cnt]\n",
        "labels = y_train[:cnt]\n",
        "dic = {0:'T-shirt', 1:'Trowser', 2:'Pullover', 3:'Dress', 4:'Coat', 5:'Sandal', 6:'Shirt', 7:'Sneaker', 8:'Bag', 9:'Ankle Boot'}\n",
        "\n",
        "visited = [True for i in range(10)]\n",
        "r_idx = 0\n",
        "c_idx = 0\n",
        "fig, axes = plt.subplots(num_row, num_col, figsize=(2*num_col, 2*num_row))\n",
        "for i in range(cnt):\n",
        "  if(visited[labels[i]]):\n",
        "    if(c_idx == num_col):\n",
        "      r_idx = 1\n",
        "      c_idx = 0\n",
        "    visited[labels[i]] = False\n",
        "    ax = axes[r_idx, c_idx]\n",
        "    ax.imshow(images[i], cmap='gray')\n",
        "    ax.set_title('{}'.format(dic[labels[i]]))\n",
        "    c_idx += 1 \n",
        "plt.tight_layout()\n",
        "plt.show()"
      ],
      "metadata": {
        "colab": {
          "base_uri": "https://localhost:8080/",
          "height": 276
        },
        "id": "0UkdOq_aE8MP",
        "outputId": "16324aca-3822-4f73-ff2f-49c71566cf1d"
      },
      "execution_count": 4,
      "outputs": [
        {
          "output_type": "display_data",
          "data": {
            "text/plain": [
              "<Figure size 720x288 with 10 Axes>"
            ],
            "image/png": "[encoded data removed]"
          },
          "metadata": {
            "needs_background": "light"
          }
        }
      ]
    },
    {
      "cell_type": "markdown",
      "source": [
        "#Question 2"
      ],
      "metadata": {
        "id": "MqNF9yyP395T"
      }
    },
    {
      "cell_type": "code",
      "source": [
        "#activation functions\n",
        "\n",
        "def sigmoid(x):\n",
        "  z = x.copy()\n",
        "  z[x < 0] = np.exp(x[x < 0])/(1 + np.exp(x[x<0]))\n",
        "  z[x >= 0] = 1/(1+np.exp(-x[x >= 0]))\n",
        "  return z\n",
        "\n",
        "def softmax(x):\n",
        "  e_x = np.exp(x - max(x))\n",
        "  return e_x / e_x.sum()\n",
        "\n",
        "def d_sigmoid(x):\n",
        "  return sigmoid(x)*(1 - sigmoid(x))\n",
        "\n",
        "  "
      ],
      "metadata": {
        "id": "Yg3eZLq5-l5B"
      },
      "execution_count": 5,
      "outputs": []
    },
    {
      "cell_type": "code",
      "source": [
        "# num_layers = 5\n",
        "# hidden_size = 4\n",
        "# num_labels = num_label\n",
        "# xdim = 60000\n",
        "# ydim = 784\n",
        "# w = list()\n",
        "# b = list()\n",
        "# w.append(np.random.rand(hidden_size, ydim))\n",
        "# b.append(np.random.rand(hidden_size,1))\n",
        "# for i in range(num_layers-1):\n",
        "#   w.append(np.random.rand(hidden_size, hidden_size))\n",
        "#   b.append(np.random.rand(hidden_size,1))\n",
        "# w.append(np.random.rand(num_labels, hidden_size))\n",
        "# b.append(np.random.rand(num_labels,1))\n",
        "# X = np.reshape(X_train, (60000,784))\n",
        "# W = w\n",
        "# B = b"
      ],
      "metadata": {
        "id": "BCnTKNpSHThn"
      },
      "execution_count": 6,
      "outputs": []
    },
    {
      "cell_type": "code",
      "source": [
        "# H=list()\n",
        "# A=list()\n",
        "# a = np.array(W[0]@X.T + B[0])\n",
        "# h = sigmoid(a.T).T\n",
        "# H.append(h)\n",
        "# A.append(a)\n",
        "# cur_ip = h\n",
        "\n",
        "# for i in range(num_layers-1):\n",
        "#   a = np.array(W[i+1]@cur_ip + B[i+1])\n",
        "#   h = sigmoid(a.T).T\n",
        "#   H.append(h)\n",
        "#   A.append(a)\n",
        "#   cur_ip = h\n",
        "# a = np.array(W[num_layers]@cur_ip + B[num_layers])\n",
        "# h = a.T\n",
        "# A.append(a)\n",
        "# y = np.array([softmax(i) for i in h]).T"
      ],
      "metadata": {
        "id": "PoTtKlNiz-M4"
      },
      "execution_count": 7,
      "outputs": []
    },
    {
      "cell_type": "code",
      "source": [
        "# ey = np.zeros([60000,10], dtype= int)\n",
        "# for i in range(60000):\n",
        "#   ey[i][y_train[i]] = 1\n",
        "\n",
        "# d_aL = -(ey.T - y)   #(60000, 10)\n",
        "# D_W = list()\n",
        "# D_B = list()\n",
        "# for k in reversed(range(1,num_layers+1)):\n",
        "#   # print(\"k:\",k)\n",
        "#   # print(\"d_aL : \",d_aL.shape)\n",
        "#   # print(\"h_k-1 : {}x{}\".format(len(H[k-1]), len(H[k-1][0])))\n",
        "#   d_wL = d_aL@H[k-1].T\n",
        "#   D_W.append(d_wL)\n",
        "#   # print(\"d_wL : \",d_wL.shape)\n",
        "#   d_bL = d_aL\n",
        "#   d_bL = np.sum(d_bL, axis = 1).reshape(len(d_bL),1)\n",
        "#   # print(d_bL.shape)\n",
        "#   D_B.append(d_bL)\n",
        "#   # print(\"W[k] : \",W[k].shape)\n",
        "#   d_hL = W[k].T@d_aL\n",
        "#   dga = d_sigmoid(A[k-1])\n",
        "#   # print(\"d_hL : \",d_hL.shape)\n",
        "#   # print(\"dga : \",dga.shape)\n",
        "#   d_aL = np.multiply(d_hL,dga)\n",
        "#   # print(\"d_aL : \",d_aL.shape)\n",
        "#   # print(\"\\n\")\n",
        "\n",
        "# d_wL = d_aL @ X\n",
        "# d_bL = d_aL\n",
        "# d_bL = np.sum(d_bL, axis = 1).reshape(len(d_bL),1)\n",
        "# D_W.append(d_wL)\n",
        "# D_B.append(d_bL)\n",
        "# print(d_wL.shape)\n",
        "\n",
        "# # print(d_aL.shape)\n",
        "# # print(H[3].shape)\n",
        "# # d_wL = d_aL@H[3].T\n",
        "# # d_bL = d_aL\n",
        "# # d_hL = W[4]@d_aL\n",
        "\n",
        "# # dga = d_sigmoid(A[3])\n",
        "# # d_aL = d_hL@dga"
      ],
      "metadata": {
        "id": "Jo9_3-fxjZhU"
      },
      "execution_count": 8,
      "outputs": []
    },
    {
      "cell_type": "code",
      "source": [
        "class Optimizer:\n",
        "  def forwardPropagation(self, W, B, X, num_layer):\n",
        "    H=list()\n",
        "    A=list()\n",
        "    a = np.array(W[0]@X.T + B[0])\n",
        "    h = sigmoid(a.T).T\n",
        "    H.append(h)\n",
        "    A.append(a)\n",
        "    cur_ip = h\n",
        "\n",
        "    for i in range(num_layer-1):\n",
        "      a = np.array(W[i+1]@cur_ip + B[i+1])\n",
        "      h = sigmoid(a.T).T\n",
        "      H.append(h)\n",
        "      A.append(a)\n",
        "      cur_ip = h\n",
        "    a = np.array(W[num_layer]@cur_ip + B[num_layer])\n",
        "    h = a.T\n",
        "    A.append(a)\n",
        "    y = np.array([softmax(i) for i in h]).T\n",
        "    return H, A, y\n",
        "\n",
        "  def backwardPropagation(self, H, A, y, W, B, X, num_layer, num_label):\n",
        "    xdim = X.shape[0]\n",
        "    ey = np.zeros([xdim,num_label], dtype= int)\n",
        "    for i in range(xdim):\n",
        "      ey[i][Y[i]] = 1\n",
        "\n",
        "    d_aL = -(ey.T - y)   #(60000, 10)\n",
        "    D_W = list()\n",
        "    D_B = list()\n",
        "    for k in reversed(range(1,num_layer+1)):\n",
        "      # print(\"k:\",k)\n",
        "      # print(\"d_aL : \",d_aL.shape)\n",
        "      # print(\"h_k-1 : {}x{}\".format(len(H[k-1]), len(H[k-1][0])))\n",
        "      d_wL = d_aL@H[k-1].T\n",
        "      D_W.append(d_wL/xdim)\n",
        "\n",
        "      # print(\"d_wL : \",d_wL.shape)\n",
        "      \n",
        "      d_bL = np.sum(d_aL, axis = 1).reshape(len(d_aL),1)/xdim\n",
        "      D_B.append(d_bL)\n",
        "      \n",
        "      # print(\"W[k] : \",W[k].shape)\n",
        "      \n",
        "      d_hL = W[k].T@d_aL\n",
        "      dga = d_sigmoid(A[k-1])\n",
        "      \n",
        "      # print(\"d_hL : \",d_hL.shape)\n",
        "      # print(\"dga : \",dga.shape)\n",
        "      \n",
        "      d_aL = np.multiply(d_hL,dga)\n",
        "      \n",
        "      # print(\"d_aL : \",d_aL.shape)\n",
        "      # print(\"\\n\")\n",
        "\n",
        "    d_wL = d_aL @ X\n",
        "    d_bL = d_aL\n",
        "    d_bL = np.sum(d_bL, axis = 1).reshape(len(d_aL),1)/xdim\n",
        "    D_W.append(d_wL/xdim)\n",
        "    D_B.append(d_bL)\n",
        "    return D_W, D_B\n",
        "    # print(d_aL.shape)\n",
        "    # print(H[3].shape)\n",
        "    # d_wL = d_aL@H[3].T\n",
        "    # d_bL = d_aL\n",
        "    # d_hL = W[4]@d_aL\n",
        "    # dga = d_sigmoid(A[3])\n",
        "    # d_aL = d_hL@dga"
      ],
      "metadata": {
        "id": "FXf2C9BY4kEN"
      },
      "execution_count": 16,
      "outputs": []
    },
    {
      "cell_type": "code",
      "source": [
        "class feedforwardNeuralNetworkUpd:\n",
        "  def __init__(self, num_layers = 5, hidden_size = 256, xdim = 60000, ydim = 784, num_labels = 10, neta = 0.05, epochs = 30):\n",
        "    self.num_layers = num_layers\n",
        "    self.hidden_size = hidden_size\n",
        "    self.xdim = xdim\n",
        "    self.ydim = ydim\n",
        "    self.num_labels = num_labels\n",
        "    self.neta = neta\n",
        "    self.epochs = epochs\n",
        "    w = list()\n",
        "    b = list()\n",
        "    w.append(np.random.randn(hidden_size, ydim))\n",
        "    b.append(np.random.randn(hidden_size,1))\n",
        "    # b.append(np.zeros([hidden_size,1]))\n",
        "    for i in range(self.num_layers-1):\n",
        "      w.append(np.random.randn(hidden_size, hidden_size))\n",
        "      b.append(np.random.randn(hidden_size,1))\n",
        "      # b.append(np.zeros([hidden_size,1]))\n",
        "    w.append(np.random.randn(num_labels, hidden_size))\n",
        "    b.append(np.random.randn(num_labels,1))\n",
        "    # b.append(np.zeros([num_labels,1]))\n",
        "    self.W = w\n",
        "    self.B = b\n",
        "  \n",
        "  def feedForward(self):\n",
        "    a = np.array(self.W[0]@X.T + self.B[0])\n",
        "    h = sigmoid(a.T).T\n",
        "    cur_ip = h\n",
        "\n",
        "    for i in range(self.num_layers-1):\n",
        "      a = np.array(self.W[i+1]@cur_ip + self.B[i+1])\n",
        "      h = sigmoid(a.T).T\n",
        "      cur_ip = h\n",
        "    a = np.array(self.W[self.num_layers]@cur_ip + self.B[self.num_layers])\n",
        "    h = a.T\n",
        "    y = np.array([softmax(i) for i in h]).T\n",
        "    return y\n",
        "  \n",
        "  \n",
        "\n",
        "  def gradientDescent(self):\n",
        "    for k in range(self.epochs):\n",
        "      O = Optimizer()\n",
        "      H, A, y = O.forwardPropagation(self.W, self.B, X, self.num_layers)\n",
        "      D_W, D_B = O.backwardPropagation(H, A, y, self.W, self.B, X, self.num_layers, self.num_labels)\n",
        "      D_W = np.flip(D_W)\n",
        "      D_B = np.flip(D_B)\n",
        "      # print(self.B[0].shape)\n",
        "      # print(D_B[0].shape)\n",
        "      for i in range(self.num_layers+1):\n",
        "        self.W[i] = self.W[i] - 0.1*D_W[i]\n",
        "        self.B[i] = self.B[i] - 0.1*D_B[i] \n",
        "      \n",
        "      y_hat = self.feedForward()\n",
        "      Y_one_hot = np.eye(self.num_labels)[Y]\n",
        "      loss = -np.sum(Y_one_hot * np.log(y_hat.T + 1e-15) )\n",
        "      print(\"Epoch {} : {}\".format(k, (loss/batch)))\n",
        "  \n",
        "\n",
        "  def momentumGD(self, beta = 0.9, eta = 1.0):\n",
        "    for k in range(self.epochs):\n",
        "      O = Optimizer()\n",
        "      H, A, y = O.forwardPropagation(self.W, self.B, X, self.num_layers)\n",
        "      D_W, D_B = O.backwardPropagation(H, A, y, self.W, self.B, X, self.num_layers, self.num_labels)\n",
        "      D_W = np.flip(D_W)\n",
        "      D_B = np.flip(D_B)\n",
        "      if k==0:\n",
        "        uw = D_W\n",
        "        ub = D_B\n",
        "      else:\n",
        "        uw = beta*prev_uw + eta*D_W\n",
        "        ub = beta*prev_ub + eta*D_B\n",
        "      for i in range(self.num_layers+1):\n",
        "        self.W[i] = self.W[i] - 0.1*uw[i]\n",
        "        self.B[i] = self.B[i] - 0.1*ub[i]\n",
        "      prev_uw = uw\n",
        "      prev_ub = ub \n",
        "      \n",
        "      y_hat = self.feedForward()\n",
        "      Y_one_hot = np.eye(self.num_labels)[Y]\n",
        "      loss = -np.sum(Y_one_hot * np.log(y_hat.T + 1e-15) )\n",
        "      print(\"Epoch {} : {}\".format(k, (loss/batch)))\n",
        "  \n",
        "  def nagGD(self, beta = 0.1, eta = 1.0):\n",
        "    for k in range(self.epochs):\n",
        "      O = Optimizer()\n",
        "      if k==0:\n",
        "        H, A, y = O.forwardPropagation(self.W, self.B, X, self.num_layers)\n",
        "        D_W, D_B = O.backwardPropagation(H, A, y, self.W, self.B, X, self.num_layers, self.num_labels)\n",
        "      else:\n",
        "        u_w = beta*prev_uw\n",
        "        u_b = beta*prev_ub\n",
        "        temp_u_w = list()\n",
        "        temp_u_b = list()\n",
        "        for i in range(len(self.W)):\n",
        "          temp_u_w.append(self.W[i]-u_w[i])\n",
        "          temp_u_b.append(self.B[i]-u_b[i])  \n",
        "        H, A, y = O.forwardPropagation(temp_u_w, temp_u_b, X, self.num_layers)\n",
        "        D_W, D_B = O.backwardPropagation(H, A, y, temp_u_w, temp_u_b, X, self.num_layers, self.num_labels)\n",
        "\n",
        "      D_W = np.flip(D_W)\n",
        "      D_B = np.flip(D_B)\n",
        "      if k==0:\n",
        "        uw = D_W\n",
        "        ub = D_B\n",
        "      else:\n",
        "        uw = beta*prev_uw + eta*D_W\n",
        "        ub = beta*prev_ub + eta*D_B\n",
        "      for i in range(self.num_layers+1):\n",
        "        self.W[i] = self.W[i] - 0.1*uw[i]\n",
        "        self.B[i] = self.B[i] - 0.1*ub[i]\n",
        "      prev_uw = uw\n",
        "      prev_ub = ub \n",
        "      \n",
        "      y_hat = self.feedForward()\n",
        "      Y_one_hot = np.eye(self.num_labels)[Y]\n",
        "      loss = -np.sum(Y_one_hot * np.log(y_hat.T + 1e-15) )\n",
        "      print(\"Epoch {} : {}\".format(k, (loss/batch)))\n",
        "    \n",
        "\n",
        "\n",
        "\n",
        "  def accuracy(self, Y):\n",
        "    pred = np.argmax(Y, axis=1)\n",
        "    print(pred.shape)"
      ],
      "metadata": {
        "id": "wN7Z0v4JaPPe"
      },
      "execution_count": 27,
      "outputs": []
    },
    {
      "cell_type": "code",
      "source": [
        "X = np.reshape(X_train, (60000,784))/255\n",
        "batch = 5000\n",
        "X = X[:batch]\n",
        "Y = y_train[:batch]\n",
        "F = feedforwardNeuralNetworkUpd(xdim = batch)\n",
        "F.momentumGD()\n",
        "y_hat = F.feedForward()\n"
      ],
      "metadata": {
        "id": "kBmsqiGSrDjD"
      },
      "execution_count": null,
      "outputs": []
    },
    {
      "cell_type": "code",
      "source": [
        "pred = np.argmax(y_hat, axis=0)\n",
        "# print(Y)\n",
        "# print(pred)\n",
        "accuracy = np.mean(pred==Y)\n",
        "print(\"Accuracy : {}\".format(accuracy))"
      ],
      "metadata": {
        "colab": {
          "base_uri": "https://localhost:8080/"
        },
        "id": "pOLxN94yvudP",
        "outputId": "0d327bbd-6728-4815-ed9f-6875265ada74"
      },
      "execution_count": 21,
      "outputs": [
        {
          "output_type": "stream",
          "name": "stdout",
          "text": [
            "Accuracy : 0.6364\n"
          ]
        }
      ]
    },
    {
      "cell_type": "code",
      "source": [
        "X = np.reshape(X_train, (60000,784))/255\n",
        "batch = 5000\n",
        "X = X[:batch]\n",
        "Y = y_train[:batch]\n",
        "F = feedforwardNeuralNetworkUpd(xdim = batch)\n",
        "F.nagGD()\n",
        "y_hat = F.feedForward()\n",
        "\n",
        "pred = np.argmax(y_hat, axis=0)\n",
        "# print(Y)\n",
        "# print(pred)\n",
        "accuracy = np.mean(pred==Y)\n",
        "print(\"Accuracy : {}\".format(accuracy))"
      ],
      "metadata": {
        "id": "G-D6ZoAUheCy",
        "colab": {
          "base_uri": "https://localhost:8080/"
        },
        "outputId": "f2bcd30b-fa34-4c38-fa9d-9765ab756177"
      },
      "execution_count": 28,
      "outputs": [
        {
          "output_type": "stream",
          "name": "stdout",
          "text": [
            "Epoch 0 : 11.891951646057205\n",
            "Epoch 1 : 8.918570871800686\n",
            "Epoch 2 : 7.287754590769665\n",
            "Epoch 3 : 5.0540295755784115\n",
            "Epoch 4 : 4.440996005654442\n",
            "Epoch 5 : 3.965637810155178\n",
            "Epoch 6 : 3.6498257428272685\n",
            "Epoch 7 : 3.4243281626134063\n",
            "Epoch 8 : 3.5925368879091772\n",
            "Epoch 9 : 3.205180827801986\n",
            "Epoch 10 : 3.16779333777652\n",
            "Epoch 11 : 3.1201232046928222\n",
            "Epoch 12 : 2.904173716032583\n",
            "Epoch 13 : 2.795944490733493\n",
            "Epoch 14 : 2.663904437464401\n",
            "Epoch 15 : 2.608314396673336\n",
            "Epoch 16 : 2.3765472162750707\n",
            "Epoch 17 : 2.5348793488670593\n",
            "Epoch 18 : 2.1562763606351174\n",
            "Epoch 19 : 2.2990123170997956\n",
            "Epoch 20 : 2.1716326796450556\n",
            "Epoch 21 : 2.116478744215426\n",
            "Epoch 22 : 2.0640934851922417\n",
            "Epoch 23 : 2.0287568392647235\n",
            "Epoch 24 : 1.973035283518163\n",
            "Epoch 25 : 1.916236790659676\n",
            "Epoch 26 : 1.893200927206545\n",
            "Epoch 27 : 1.8505640110110522\n",
            "Epoch 28 : 1.8124316807814747\n",
            "Epoch 29 : 1.7905035875569355\n",
            "Accuracy : 0.4486\n"
          ]
        }
      ]
    },
    {
      "cell_type": "code",
      "source": [],
      "metadata": {
        "id": "v9xgykq4pDc1"
      },
      "execution_count": null,
      "outputs": []
    }
  ]
}