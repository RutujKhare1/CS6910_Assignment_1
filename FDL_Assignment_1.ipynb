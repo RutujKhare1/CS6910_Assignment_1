{
  "cells": [
    {
      "cell_type": "markdown",
      "metadata": {
        "id": "view-in-github",
        "colab_type": "text"
      },
      "source": [
        "<a href=\"https://colab.research.google.com/github/RutujKhare1/CS6910_Assignment_1/blob/main/FDL_Assignment_1.ipynb\" target=\"_parent\"><img src=\"https://colab.research.google.com/assets/colab-badge.svg\" alt=\"Open In Colab\"/></a>"
      ]
    },
    {
      "cell_type": "code",
      "execution_count": 1,
      "metadata": {
        "colab": {
          "base_uri": "https://localhost:8080/"
        },
        "id": "rGFo5cj3nU9X",
        "outputId": "89c6c870-0ace-4a57-a4ea-69ec62873196"
      },
      "outputs": [
        {
          "output_type": "stream",
          "name": "stdout",
          "text": [
            "Looking in indexes: https://pypi.org/simple, https://us-python.pkg.dev/colab-wheels/public/simple/\n",
            "Collecting wandb\n",
            "  Downloading wandb-0.14.0-py3-none-any.whl (2.0 MB)\n",
            "\u001b[2K     \u001b[90m━━━━━━━━━━━━━━━━━━━━━━━━━━━━━━━━━━━━━━━━\u001b[0m \u001b[32m2.0/2.0 MB\u001b[0m \u001b[31m40.8 MB/s\u001b[0m eta \u001b[36m0:00:00\u001b[0m\n",
            "\u001b[?25hCollecting setproctitle\n",
            "  Downloading setproctitle-1.3.2-cp39-cp39-manylinux_2_5_x86_64.manylinux1_x86_64.manylinux_2_17_x86_64.manylinux2014_x86_64.whl (30 kB)\n",
            "Requirement already satisfied: setuptools in /usr/local/lib/python3.9/dist-packages (from wandb) (63.4.3)\n",
            "Collecting pathtools\n",
            "  Downloading pathtools-0.1.2.tar.gz (11 kB)\n",
            "  Preparing metadata (setup.py) ... \u001b[?25l\u001b[?25hdone\n",
            "Collecting sentry-sdk>=1.0.0\n",
            "  Downloading sentry_sdk-1.17.0-py2.py3-none-any.whl (189 kB)\n",
            "\u001b[2K     \u001b[90m━━━━━━━━━━━━━━━━━━━━━━━━━━━━━━━━━━━━━━\u001b[0m \u001b[32m189.1/189.1 KB\u001b[0m \u001b[31m16.7 MB/s\u001b[0m eta \u001b[36m0:00:00\u001b[0m\n",
            "\u001b[?25hRequirement already satisfied: Click!=8.0.0,>=7.0 in /usr/local/lib/python3.9/dist-packages (from wandb) (8.1.3)\n",
            "Requirement already satisfied: psutil>=5.0.0 in /usr/local/lib/python3.9/dist-packages (from wandb) (5.9.4)\n",
            "Requirement already satisfied: PyYAML in /usr/local/lib/python3.9/dist-packages (from wandb) (6.0)\n",
            "Requirement already satisfied: typing-extensions in /usr/local/lib/python3.9/dist-packages (from wandb) (4.5.0)\n",
            "Requirement already satisfied: protobuf!=4.21.0,<5,>=3.15.0 in /usr/local/lib/python3.9/dist-packages (from wandb) (3.19.6)\n",
            "Collecting appdirs>=1.4.3\n",
            "  Downloading appdirs-1.4.4-py2.py3-none-any.whl (9.6 kB)\n",
            "Collecting GitPython!=3.1.29,>=1.0.0\n",
            "  Downloading GitPython-3.1.31-py3-none-any.whl (184 kB)\n",
            "\u001b[2K     \u001b[90m━━━━━━━━━━━━━━━━━━━━━━━━━━━━━━━━━━━━━━\u001b[0m \u001b[32m184.3/184.3 KB\u001b[0m \u001b[31m19.3 MB/s\u001b[0m eta \u001b[36m0:00:00\u001b[0m\n",
            "\u001b[?25hRequirement already satisfied: requests<3,>=2.0.0 in /usr/local/lib/python3.9/dist-packages (from wandb) (2.27.1)\n",
            "Collecting docker-pycreds>=0.4.0\n",
            "  Downloading docker_pycreds-0.4.0-py2.py3-none-any.whl (9.0 kB)\n",
            "Requirement already satisfied: six>=1.4.0 in /usr/local/lib/python3.9/dist-packages (from docker-pycreds>=0.4.0->wandb) (1.15.0)\n",
            "Collecting gitdb<5,>=4.0.1\n",
            "  Downloading gitdb-4.0.10-py3-none-any.whl (62 kB)\n",
            "\u001b[2K     \u001b[90m━━━━━━━━━━━━━━━━━━━━━━━━━━━━━━━━━━━━━━━━\u001b[0m \u001b[32m62.7/62.7 KB\u001b[0m \u001b[31m7.5 MB/s\u001b[0m eta \u001b[36m0:00:00\u001b[0m\n",
            "\u001b[?25hRequirement already satisfied: idna<4,>=2.5 in /usr/local/lib/python3.9/dist-packages (from requests<3,>=2.0.0->wandb) (3.4)\n",
            "Requirement already satisfied: urllib3<1.27,>=1.21.1 in /usr/local/lib/python3.9/dist-packages (from requests<3,>=2.0.0->wandb) (1.26.15)\n",
            "Requirement already satisfied: charset-normalizer~=2.0.0 in /usr/local/lib/python3.9/dist-packages (from requests<3,>=2.0.0->wandb) (2.0.12)\n",
            "Requirement already satisfied: certifi>=2017.4.17 in /usr/local/lib/python3.9/dist-packages (from requests<3,>=2.0.0->wandb) (2022.12.7)\n",
            "Collecting smmap<6,>=3.0.1\n",
            "  Downloading smmap-5.0.0-py3-none-any.whl (24 kB)\n",
            "Building wheels for collected packages: pathtools\n",
            "  Building wheel for pathtools (setup.py) ... \u001b[?25l\u001b[?25hdone\n",
            "  Created wheel for pathtools: filename=pathtools-0.1.2-py3-none-any.whl size=8807 sha256=e16a5cf9ec2d37a6615f329d4caa7986795902985b8df779eb605b8a27dd2ffd\n",
            "  Stored in directory: /root/.cache/pip/wheels/b7/0a/67/ada2a22079218c75a88361c0782855cc72aebc4d18d0289d05\n",
            "Successfully built pathtools\n",
            "Installing collected packages: pathtools, appdirs, smmap, setproctitle, sentry-sdk, docker-pycreds, gitdb, GitPython, wandb\n",
            "Successfully installed GitPython-3.1.31 appdirs-1.4.4 docker-pycreds-0.4.0 gitdb-4.0.10 pathtools-0.1.2 sentry-sdk-1.17.0 setproctitle-1.3.2 smmap-5.0.0 wandb-0.14.0\n"
          ]
        }
      ],
      "source": [
        "!pip install wandb"
      ]
    },
    {
      "cell_type": "code",
      "execution_count": 2,
      "metadata": {
        "id": "OGNmUu8HCDUH"
      },
      "outputs": [],
      "source": [
        "from keras.datasets import fashion_mnist\n",
        "import matplotlib.pyplot as plt\n",
        "import numpy as np\n",
        "import wandb"
      ]
    },
    {
      "cell_type": "code",
      "execution_count": 3,
      "metadata": {
        "id": "9PzAPWydDWfc",
        "colab": {
          "base_uri": "https://localhost:8080/"
        },
        "outputId": "ce83dc08-fb6f-4335-ae40-6d33cefabc99"
      },
      "outputs": [
        {
          "output_type": "stream",
          "name": "stdout",
          "text": [
            "Downloading data from https://storage.googleapis.com/tensorflow/tf-keras-datasets/train-labels-idx1-ubyte.gz\n",
            "29515/29515 [==============================] - 0s 0us/step\n",
            "Downloading data from https://storage.googleapis.com/tensorflow/tf-keras-datasets/train-images-idx3-ubyte.gz\n",
            "26421880/26421880 [==============================] - 1s 0us/step\n",
            "Downloading data from https://storage.googleapis.com/tensorflow/tf-keras-datasets/t10k-labels-idx1-ubyte.gz\n",
            "5148/5148 [==============================] - 0s 0us/step\n",
            "Downloading data from https://storage.googleapis.com/tensorflow/tf-keras-datasets/t10k-images-idx3-ubyte.gz\n",
            "4422102/4422102 [==============================] - 0s 0us/step\n"
          ]
        }
      ],
      "source": [
        "(X_train, Y_train), (X_test, Y_test) = fashion_mnist.load_data()\n",
        "num_label = 10\n",
        "num_samples = len(X_train)"
      ]
    },
    {
      "cell_type": "code",
      "execution_count": 4,
      "metadata": {
        "colab": {
          "base_uri": "https://localhost:8080/"
        },
        "id": "IuyyHY0_EInl",
        "outputId": "9f45291e-4ed9-4925-a23d-8d34c5250074"
      },
      "outputs": [
        {
          "output_type": "stream",
          "name": "stdout",
          "text": [
            "Train shape : (60000, 28, 28), (60000,)\n",
            "Test shape : (10000, 28, 28), (10000,)\n"
          ]
        }
      ],
      "source": [
        "print(\"Train shape : {}, {}\".format(X_train.shape, Y_train.shape))\n",
        "print(\"Test shape : {}, {}\".format(X_test.shape, Y_test.shape))"
      ]
    },
    {
      "cell_type": "markdown",
      "metadata": {
        "id": "yPTwJqSlPRfI"
      },
      "source": [
        "# Question 1"
      ]
    },
    {
      "cell_type": "code",
      "execution_count": 5,
      "metadata": {
        "colab": {
          "base_uri": "https://localhost:8080/",
          "height": 300
        },
        "id": "0UkdOq_aE8MP",
        "outputId": "bcbc37b8-a30b-4491-ed2e-bd24111af44d"
      },
      "outputs": [
        {
          "output_type": "display_data",
          "data": {
            "text/plain": [
              "<Figure size 720x288 with 10 Axes>"
            ],
            "image/png": "[encoded data removed]"
          },
          "metadata": {
            "needs_background": "light"
          }
        }
      ],
      "source": [
        "num_row = 2\n",
        "num_col = 5\n",
        "\n",
        "cnt = 30\n",
        "images = X_train[:cnt]\n",
        "labels = Y_train[:cnt]\n",
        "dic = {0:'T-shirt', 1:'Trowser', 2:'Pullover', 3:'Dress', 4:'Coat', 5:'Sandal', 6:'Shirt', 7:'Sneaker', 8:'Bag', 9:'Ankle Boot'}\n",
        "\n",
        "visited = [True for i in range(10)]\n",
        "r_idx = 0\n",
        "c_idx = 0\n",
        "fig, axes = plt.subplots(num_row, num_col, figsize=(2*num_col, 2*num_row))\n",
        "for i in range(cnt):\n",
        "  if(visited[labels[i]]):\n",
        "    if(c_idx == num_col):\n",
        "      r_idx = 1\n",
        "      c_idx = 0\n",
        "    visited[labels[i]] = False\n",
        "    ax = axes[r_idx, c_idx]\n",
        "    ax.imshow(images[i], cmap='gray')\n",
        "    ax.set_title('{}'.format(dic[labels[i]]))\n",
        "    c_idx += 1 \n",
        "plt.tight_layout()\n",
        "plt.show()"
      ]
    },
    {
      "cell_type": "markdown",
      "metadata": {
        "id": "MqNF9yyP395T"
      },
      "source": [
        "#Question 2"
      ]
    },
    {
      "cell_type": "code",
      "execution_count": 6,
      "metadata": {
        "id": "lPkflwJW3zTh"
      },
      "outputs": [],
      "source": [
        "#Helper functions\n",
        "\n",
        "def xavierRandom(x, y):\n",
        "  limit = np.sqrt(6 / float(x + y))\n",
        "  return np.random.uniform(low=-limit, high=limit, size=(x,y))\n",
        "  "
      ]
    },
    {
      "cell_type": "code",
      "execution_count": 7,
      "metadata": {
        "id": "Yg3eZLq5-l5B"
      },
      "outputs": [],
      "source": [
        "#activation functions\n",
        "\n",
        "def sigmoid(x):\n",
        "  z = x.copy()\n",
        "  z[x < 0] = np.exp(x[x < 0])/(1 + np.exp(x[x<0]))\n",
        "  z[x >= 0] = 1/(1+np.exp(-x[x >= 0]))\n",
        "  return z\n",
        "\n",
        "def d_sigmoid(x):\n",
        "  return sigmoid(x)*(1 - sigmoid(x))\n",
        "\n",
        "def softmax(x):\n",
        "  e_x = np.exp(x - max(x))\n",
        "  return e_x / e_x.sum()\n",
        "\n",
        "def tanh(x):\n",
        "  return np.tanh(x)\n",
        "  \n",
        "def d_tanh(x):\n",
        "  return 1 - tanh(x)**2\n",
        "\n",
        "def relu(x):\n",
        "  return np.maximum(x,0)\n",
        "\n",
        "def d_relu(x):\n",
        "  z = x.copy()\n",
        "  z[x < 0]=0\n",
        "  z[x > 0]=1\n",
        "  return z\n",
        "\n",
        "actFn_dict = {\"sigmoid\":sigmoid,\n",
        "               \"softmax\":softmax,\n",
        "               \"relu\":relu,\n",
        "               \"tanh\":tanh}\n",
        "d_actFn_dict = {\"sigmoid\":d_sigmoid,\n",
        "               \"relu\":d_relu,\n",
        "               \"tanh\":d_tanh}\n"
      ]
    },
    {
      "cell_type": "code",
      "execution_count": 8,
      "metadata": {
        "id": "FXf2C9BY4kEN"
      },
      "outputs": [],
      "source": [
        "class Optimizer:\n",
        "  def forwardPropagation(self, W, B, X, num_layer, activation):\n",
        "    H=list()\n",
        "    A=list()\n",
        "    a = np.array(W[0]@X.T + B[0])\n",
        "    h = actFn_dict[activation](a)\n",
        "    H.append(h)\n",
        "    A.append(a)\n",
        "    cur_ip = h\n",
        "\n",
        "    for i in range(num_layer-1):\n",
        "      a = np.array(W[i+1]@cur_ip + B[i+1])\n",
        "      h = actFn_dict[activation](a.T).T\n",
        "      H.append(h)\n",
        "      A.append(a)\n",
        "      cur_ip = h\n",
        "    a = np.array(W[num_layer]@cur_ip + B[num_layer])\n",
        "    h = a.T\n",
        "    A.append(a)\n",
        "    y = np.array([actFn_dict[\"softmax\"](i) for i in h]).T\n",
        "    return H, A, y\n",
        "\n",
        "  def backwardPropagation(self, H, A, y, W, B, X, Y, num_layer, num_label, activation):\n",
        "    xdim = X.shape[0]\n",
        "    ey = np.zeros([xdim,num_label], dtype= int)\n",
        "    for i in range(xdim):\n",
        "      ey[i][Y[i]] = 1\n",
        "    d_aL = -(ey.T - y)   #(60000, 10)\n",
        "    D_W = list()\n",
        "    D_B = list()\n",
        "    for k in reversed(range(1,num_layer+1)):\n",
        "      # print(\"k:\",k)\n",
        "      # print(\"d_aL : \",d_aL.shape)\n",
        "      # print(\"h_k-1 : {}x{}\".format(len(H[k-1]), len(H[k-1][0])))\n",
        "      d_wL = d_aL@H[k-1].T\n",
        "      D_W.append(d_wL/xdim)\n",
        "\n",
        "      # print(\"d_wL : \",d_wL.shape)\n",
        "      \n",
        "      d_bL = np.sum(d_aL, axis = 1).reshape(len(d_aL),1)/xdim\n",
        "      D_B.append(d_bL)\n",
        "      \n",
        "      # print(\"W[k] : \",W[k].shape)\n",
        "      \n",
        "      d_hL = W[k].T@d_aL\n",
        "      dga = d_actFn_dict[activation](A[k-1])\n",
        "      \n",
        "      # print(\"d_hL : \",d_hL.shape)\n",
        "      # print(\"dga : \",dga.shape)\n",
        "      \n",
        "      d_aL = np.multiply(d_hL,dga)\n",
        "      \n",
        "      # print(\"d_aL : \",d_aL.shape)\n",
        "      # print(\"\\n\")\n",
        "\n",
        "    d_wL = d_aL @ X\n",
        "    d_bL = d_aL\n",
        "    d_bL = np.sum(d_bL, axis = 1).reshape(len(d_aL),1)/xdim\n",
        "    D_W.append(d_wL/xdim)\n",
        "    D_B.append(d_bL)\n",
        "    return D_W, D_B\n",
        "    # print(d_aL.shape)\n",
        "    # print(H[3].shape)\n",
        "    # d_wL = d_aL@H[3].T\n",
        "    # d_bL = d_aL\n",
        "    # d_hL = W[4]@d_aL\n",
        "    # dga = d_sigmoid(A[3])\n",
        "    # d_aL = d_hL@dga"
      ]
    },
    {
      "cell_type": "code",
      "execution_count": 9,
      "metadata": {
        "id": "0cJ2D5tLYICu"
      },
      "outputs": [],
      "source": [
        "X_mini = np.reshape(X_train, (60000,784))/255.0\n",
        "num_data_points = 60000\n",
        "num_val_points = num_data_points//10\n",
        "num_train_points = num_data_points - num_val_points\n",
        "Xtrain = X_mini[:num_train_points]\n",
        "Ytrain = Y_train[:num_train_points]\n",
        "X_valid = X_mini[num_train_points:]\n",
        "Y_valid =  Y_train[num_train_points:]"
      ]
    },
    {
      "cell_type": "code",
      "execution_count": 10,
      "metadata": {
        "id": "wN7Z0v4JaPPe"
      },
      "outputs": [],
      "source": [
        "class feedforwardNeuralNetwork:\n",
        "  def __init__(self, num_layers = 3, hidden_size = 64, num_labels = 10, neta = 0.1, epochs = 10, X_train = X_train, Y_train = Y_train, batch = 64, w_init = \"xavier\", X_val = X_valid, Y_val = Y_valid, activation = 'sigmoid', wt_decay = 0):\n",
        "    self.num_layers = num_layers\n",
        "    self.hidden_size = hidden_size\n",
        "    self.xdim = X_train.shape[0]\n",
        "    self.ydim = X_train.shape[1]\n",
        "    self.num_labels = num_labels\n",
        "    self.neta = neta\n",
        "    self.epochs = epochs\n",
        "    self.X_train = X_train\n",
        "    self.Y_train = Y_train\n",
        "    self.X_val = X_val\n",
        "    self.Y_val = Y_val\n",
        "    self.batch = batch\n",
        "    w, b = self.initialiseWeight(w_init)\n",
        "    self.W = w\n",
        "    self.B = b\n",
        "    self.activation = activation\n",
        "    self.wt_decay = wt_decay\n",
        "  \n",
        "  def initialiseWeight(self, method):\n",
        "    w = list()\n",
        "    b = list()\n",
        "    if(method == \"xavier\"):\n",
        "      w.append(xavierRandom(self.hidden_size, self.ydim))\n",
        "      b.append(np.zeros([self.hidden_size,1]))\n",
        "      for i in range(self.num_layers-1):\n",
        "        w.append(xavierRandom(self.hidden_size, self.hidden_size))\n",
        "        b.append(np.zeros([self.hidden_size,1]))\n",
        "      w.append(xavierRandom(self.num_labels, self.hidden_size))\n",
        "      b.append(np.zeros([self.num_labels,1]))\n",
        "    else:\n",
        "      # w.append(np.random.randn(hidden_size, ydim))\n",
        "      w.append(np.random.uniform(-1,1, (self.hidden_size, self.ydim)))\n",
        "\n",
        "      # b.append(np.random.randn(hidden_size,1))\n",
        "      b.append(np.zeros([self.hidden_size,1]))\n",
        "      for i in range(self.num_layers-1):\n",
        "        # w.append(np.random.randn(hidden_size, hidden_size))\n",
        "        w.append(np.random.uniform(-1,1, (self.hidden_size, self.hidden_size)))\n",
        "        # b.append(np.random.randn(hidden_size,1))\n",
        "        b.append(np.zeros([self.hidden_size,1]))\n",
        "      # w.append(np.random.randn(num_labels, hidden_size))\n",
        "      w.append(np.random.uniform(-1,1, (self.num_labels, self.hidden_size)))\n",
        "      # b.append(np.random.randn(num_labels,1))\n",
        "      b.append(np.zeros([self.num_labels,1])) \n",
        "    return w, b\n",
        "\n",
        "  def calculateLoss(self, y_hat, Y):\n",
        "    num_data = y_hat.shape[1]\n",
        "    Y_one_hot = np.eye(self.num_labels)[Y]\n",
        "    loss = -np.sum(Y_one_hot * np.log(y_hat.T + 1e-15) )\n",
        "    return (loss/num_data)\n",
        "\n",
        "  def mse(self, y_hat, Y):\n",
        "    m,n = y_hat.shape\n",
        "    Y_one_hot = np.eye(self.num_labels)[Y]\n",
        "    diff_matrix = (y_hat - Y_one_hot)**2\n",
        "    loss = np.sum(diff_matrix)\n",
        "    return loss/(m*n)\n",
        "\n",
        "  def calculateAccuracy(self, y_hat, Y):\n",
        "    pred = np.argmax(y_hat, axis=0)\n",
        "    accuracy = np.mean(pred==Y)\n",
        "    return accuracy*100\n",
        "\n",
        "  def feedForward(self, x):\n",
        "    a = np.array(self.W[0]@x.T + self.B[0])\n",
        "    h = actFn_dict[self.activation](a.T).T\n",
        "    cur_ip = h\n",
        "\n",
        "    for i in range(self.num_layers-1):\n",
        "      a = np.array(self.W[i+1]@cur_ip + self.B[i+1])\n",
        "      h = actFn_dict[self.activation](a.T).T\n",
        "      cur_ip = h\n",
        "    a = np.array(self.W[self.num_layers]@cur_ip + self.B[self.num_layers])\n",
        "    h = a.T\n",
        "    # print(h)\n",
        "    y = np.array([actFn_dict[\"softmax\"](i) for i in h]).T\n",
        "    # print(y)\n",
        "    return y\n",
        "\n",
        "  # def gradientDescent(self):\n",
        "  #   for k in range(self.epochs):\n",
        "  #     O = Optimizer()\n",
        "  #     H, A, y = O.forwardPropagation(self.W, self.B, self.X_train, self.num_layers)\n",
        "  #     D_W, D_B = O.backwardPropagation(H, A, y, self.W, self.B, self.X_train, self.Y_train, self.num_layers, self.num_labels)\n",
        "  #     D_W = np.flip(D_W)\n",
        "  #     D_B = np.flip(D_B)\n",
        "  #     # print(self.B[0].shape)\n",
        "  #     # print(D_B[0].shape)\n",
        "  #     for i in range(self.num_layers+1):\n",
        "  #       self.W[i] = self.W[i] - self.neta*D_W[i]\n",
        "  #       self.B[i] = self.B[i] - self.neta*D_B[i] \n",
        "      \n",
        "  #     y_hat = self.feedForward(self.X_train)\n",
        "  #     Y_one_hot = np.eye(self.num_labels)[self.Y_train]\n",
        "  #     loss = -np.sum(Y_one_hot * np.log(y_hat.T + 1e-15) )\n",
        "  #     print(\"Epoch {} : {}\".format(k, (loss/self.xdim)))\n",
        "  \n",
        "\n",
        "  def momentumGD(self, beta = 0.9, eta = 1.0):\n",
        "    # print(\"neta \",self.neta)\n",
        "    O = Optimizer()\n",
        "    val_loss = list()\n",
        "    val_acc = list()\n",
        "    train_loss = list()\n",
        "    train_acc = list()\n",
        "    for k in range(self.epochs):\n",
        "      for b in range(0, self.xdim, self.batch):\n",
        "        X_batch = self.X_train[b:b+self.batch]\n",
        "        Y_batch = self.Y_train[b:b+self.batch]\n",
        "        H, A, y = O.forwardPropagation(self.W, self.B, X_batch, self.num_layers, self.activation)\n",
        "        D_W, D_B = O.backwardPropagation(H, A, y, self.W, self.B, X_batch, Y_batch, self.num_layers, self.num_labels, self.activation)\n",
        "        D_W = np.flip(D_W)\n",
        "        D_B = np.flip(D_B)\n",
        "        if k==0:\n",
        "          uw = D_W\n",
        "          ub = D_B\n",
        "        else:\n",
        "          uw = beta*prev_uw + eta*D_W\n",
        "          ub = beta*prev_ub + eta*D_B\n",
        "        for i in range(self.num_layers+1):\n",
        "          self.W[i] = self.W[i] - self.neta*uw[i] - self.neta*self.wt_decay*self.W[i]\n",
        "          self.B[i] = self.B[i] - self.neta*ub[i] - self.neta*self.wt_decay*self.B[i]\n",
        "        prev_uw = uw\n",
        "        prev_ub = ub \n",
        "      \n",
        "      y_train_hat = self.feedForward(self.X_train)\n",
        "      y_val_hat = self.feedForward(self.X_val)\n",
        "      train_loss.append(self.calculateLoss(y_train_hat, self.Y_train))\n",
        "      train_acc.append(self.calculateAccuracy(y_train_hat, self.Y_train))\n",
        "      # print(\"Epoch {} : Loss:{}\\t Accuracy:{}\".format(k, train_loss[-1], train_acc[-1]))\n",
        "      val_loss.append(self.calculateLoss(y_val_hat, self.Y_val))\n",
        "      val_acc.append(self.calculateAccuracy(y_val_hat, self.Y_val))\n",
        "    return train_loss, train_acc, val_loss, val_acc\n",
        "\n",
        "  def nagGD(self, beta = 0.1, eta = 1.0):\n",
        "    O = Optimizer()\n",
        "    val_loss = list()\n",
        "    val_acc = list()\n",
        "    train_loss = list()\n",
        "    train_acc = list()\n",
        "    for k in range(self.epochs):\n",
        "      for b in range(0, self.xdim, self.batch):\n",
        "        X_batch = self.X_train[b:b+self.batch]\n",
        "        Y_batch = self.Y_train[b:b+self.batch]\n",
        "        if k==0:\n",
        "          H, A, y = O.forwardPropagation(self.W, self.B, X_batch, self.num_layers, self.activation)\n",
        "          D_W, D_B = O.backwardPropagation(H, A, y, self.W, self.B, X_batch, Y_batch, self.num_layers, self.num_labels, self.activation)\n",
        "        else:\n",
        "          u_w = beta*prev_uw\n",
        "          u_b = beta*prev_ub\n",
        "          temp_u_w = list()\n",
        "          temp_u_b = list()\n",
        "          for i in range(len(self.W)):\n",
        "            temp_u_w.append(self.W[i]-u_w[i])\n",
        "            temp_u_b.append(self.B[i]-u_b[i])  \n",
        "          H, A, y = O.forwardPropagation(temp_u_w, temp_u_b, X_batch, self.num_layers, self.activation)\n",
        "          D_W, D_B = O.backwardPropagation(H, A, y, temp_u_w, temp_u_b, X_batch, Y_batch, self.num_layers, self.num_labels, self.activation)\n",
        "\n",
        "        D_W = np.flip(D_W)\n",
        "        D_B = np.flip(D_B)\n",
        "        if k==0:\n",
        "          uw = D_W\n",
        "          ub = D_B\n",
        "        else:\n",
        "          uw = beta*prev_uw + eta*D_W\n",
        "          ub = beta*prev_ub + eta*D_B\n",
        "        for i in range(self.num_layers+1):\n",
        "          self.W[i] = self.W[i] - self.neta*uw[i] - self.neta*self.wt_decay*self.W[i]\n",
        "          self.B[i] = self.B[i] - self.neta*ub[i] - self.neta*self.wt_decay*self.B[i]\n",
        "        prev_uw = uw\n",
        "        prev_ub = ub \n",
        "      \n",
        "      y_train_hat = self.feedForward(self.X_train)\n",
        "      y_val_hat = self.feedForward(self.X_val)\n",
        "      train_loss.append(self.calculateLoss(y_train_hat, self.Y_train))\n",
        "      train_acc.append(self.calculateAccuracy(y_train_hat, self.Y_train))\n",
        "      # print(\"Epoch {} : Loss:{}\\t Accuracy:{}\".format(k, train_loss[-1], train_acc[-1]))\n",
        "      val_loss.append(self.calculateLoss(y_val_hat, self.Y_val))\n",
        "      val_acc.append(self.calculateAccuracy(y_val_hat, self.Y_val))\n",
        "    return train_loss, train_acc, val_loss, val_acc\n",
        "    \n",
        "  \n",
        "  def stochasticGD(self):\n",
        "    O = Optimizer()\n",
        "    val_loss = list()\n",
        "    val_acc = list()\n",
        "    train_loss = list()\n",
        "    train_acc = list()\n",
        "    for k in range(self.epochs):\n",
        "      for b in range(0, self.xdim, self.batch):\n",
        "        X_batch = self.X_train[b:b+self.batch]\n",
        "        Y_batch = self.Y_train[b:b+self.batch]\n",
        "        H, A, y = O.forwardPropagation(self.W, self.B, X_batch, self.num_layers, self.activation)\n",
        "        D_W, D_B = O.backwardPropagation(H, A, y, self.W, self.B, X_batch, Y_batch, self.num_layers, self.num_labels, self.activation)\n",
        "        D_W = np.flip(D_W)\n",
        "        D_B = np.flip(D_B)\n",
        "        # print(self.B[0].shape)\n",
        "        # print(D_B[0].shape)\n",
        "        for i in range(self.num_layers+1):\n",
        "          self.W[i] = self.W[i] - self.neta*D_W[i] - self.neta*self.wt_decay*self.W[i]\n",
        "          self.B[i] = self.B[i] - self.neta*D_B[i] - self.neta*self.wt_decay*self.B[i]\n",
        "      \n",
        "      y_train_hat = self.feedForward(self.X_train)\n",
        "      y_val_hat = self.feedForward(self.X_val)\n",
        "      train_loss.append(self.calculateLoss(y_train_hat, self.Y_train))\n",
        "      train_acc.append(self.calculateAccuracy(y_train_hat, self.Y_train))\n",
        "      # print(\"Epoch {} : Loss:{}\\t Accuracy:{}\".format(k, train_loss[-1], train_acc[-1]))\n",
        "      val_loss.append(self.calculateLoss(y_val_hat, self.Y_val))\n",
        "      val_acc.append(self.calculateAccuracy(y_val_hat, self.Y_val))\n",
        "    return train_loss, train_acc, val_loss, val_acc\n",
        "\n",
        "  def RMSprop(self, beta = 0.9, eps = 1e-8):\n",
        "    # print(\"neta \",self.neta)\n",
        "    O = Optimizer()\n",
        "    val_loss = list()\n",
        "    val_acc = list()\n",
        "    train_loss = list()\n",
        "    train_acc = list()\n",
        "    for k in range(self.epochs):\n",
        "      for b in range(0, self.xdim, self.batch):\n",
        "        X_batch = self.X_train[b:b+self.batch]\n",
        "        Y_batch = self.Y_train[b:b+self.batch]\n",
        "        H, A, y = O.forwardPropagation(self.W, self.B, X_batch, self.num_layers, self.activation)\n",
        "        D_W, D_B = O.backwardPropagation(H, A, y, self.W, self.B, X_batch, Y_batch, self.num_layers, self.num_labels, self.activation)\n",
        "        D_W = np.flip(D_W)\n",
        "        D_B = np.flip(D_B)\n",
        "        if k==0:\n",
        "          uw = (1-beta)*np.square(D_W)\n",
        "          ub = (1-beta)*np.square(D_B)\n",
        "        else:\n",
        "          uw = beta*prev_uw + (1-beta)*np.square(D_W)\n",
        "          ub = beta*prev_ub + (1-beta)*np.square(D_B)\n",
        "        for i in range(self.num_layers+1):\n",
        "          self.W[i] = self.W[i] - self.neta*D_W[i]/(np.sqrt(uw[i]) + eps) - self.neta*self.wt_decay*self.W[i]\n",
        "          self.B[i] = self.B[i] - self.neta*D_B[i]/(np.sqrt(ub[i]) + eps) - self.neta*self.wt_decay*self.B[i]\n",
        "        prev_uw = uw\n",
        "        prev_ub = ub \n",
        "      \n",
        "      y_train_hat = self.feedForward(self.X_train)\n",
        "      y_val_hat = self.feedForward(self.X_val)\n",
        "      train_loss.append(self.calculateLoss(y_train_hat, self.Y_train))\n",
        "      train_acc.append(self.calculateAccuracy(y_train_hat, self.Y_train))\n",
        "      # print(\"Epoch {} : Loss:{}\\t Accuracy:{}\".format(k, train_loss[-1], train_acc[-1]))\n",
        "      val_loss.append(self.calculateLoss(y_val_hat, self.Y_val))\n",
        "      val_acc.append(self.calculateAccuracy(y_val_hat, self.Y_val))\n",
        "    return train_loss, train_acc, val_loss, val_acc\n",
        "\n",
        "  def adam(self, beta1 = 0.9, beta2 = 0.999, eps = 1e-8):\n",
        "    # print(\"neta \",self.neta)\n",
        "    O = Optimizer()\n",
        "    val_loss = list()\n",
        "    val_acc = list()\n",
        "    train_loss = list()\n",
        "    train_acc = list()\n",
        "    for k in range(self.epochs):\n",
        "      for b in range(0, self.xdim, self.batch):\n",
        "        X_batch = self.X_train[b:b+self.batch]\n",
        "        Y_batch = self.Y_train[b:b+self.batch]\n",
        "        H, A, y = O.forwardPropagation(self.W, self.B, X_batch, self.num_layers, self.activation)\n",
        "        D_W, D_B = O.backwardPropagation(H, A, y, self.W, self.B, X_batch, Y_batch, self.num_layers, self.num_labels, self.activation)\n",
        "        D_W = np.flip(D_W)\n",
        "        D_B = np.flip(D_B)\n",
        "        if k==0:\n",
        "          mw = (1-beta1)*D_W\n",
        "          mb = (1-beta1)*D_B\n",
        "          uw = (1-beta2)*np.square(D_W)\n",
        "          ub = (1-beta2)*np.square(D_B)\n",
        "        else:\n",
        "          mw = beta1*mw + (1-beta1)*D_W\n",
        "          mb = beta1*mb + (1-beta1)*D_B\n",
        "          uw = beta2*uw + (1-beta2)*np.square(D_W)\n",
        "          ub = beta2*ub + (1-beta2)*np.square(D_B)\n",
        "\n",
        "        mw_hat = mw / (1-np.power(beta1,k+1))\n",
        "        mb_hat = mb / (1-np.power(beta1,k+1))\n",
        "        uw_hat = uw / (1-np.power(beta2,k+1))\n",
        "        ub_hat = ub / (1-np.power(beta2,k+1))\n",
        "        for i in range(self.num_layers+1):\n",
        "          self.W[i] = self.W[i] - self.neta*mw_hat[i]/(np.sqrt(uw_hat[i]) + eps) - self.neta*self.wt_decay*self.W[i]\n",
        "          self.B[i] = self.B[i] - self.neta*mb_hat[i]/(np.sqrt(ub_hat[i]) + eps) - self.neta*self.wt_decay*self.B[i]\n",
        "      \n",
        "      y_train_hat = self.feedForward(self.X_train)\n",
        "      y_val_hat = self.feedForward(self.X_val)\n",
        "      train_loss.append(self.calculateLoss(y_train_hat, self.Y_train))\n",
        "      train_acc.append(self.calculateAccuracy(y_train_hat, self.Y_train))\n",
        "      # print(\"Epoch {} : Loss:{}\\t Accuracy:{}\".format(k, train_loss[-1], train_acc[-1]))\n",
        "      val_loss.append(self.calculateLoss(y_val_hat, self.Y_val))\n",
        "      val_acc.append(self.calculateAccuracy(y_val_hat, self.Y_val))\n",
        "    return train_loss, train_acc, val_loss, val_acc\n",
        "\n",
        "  def nAdam(self, beta1 = 0.9, beta2 = 0.999, eps = 1e-8):\n",
        "    # print(\"neta \",self.neta)\n",
        "    val_loss = list()\n",
        "    val_acc = list()\n",
        "    train_loss = list()\n",
        "    train_acc = list()\n",
        "    O = Optimizer()\n",
        "    for k in range(self.epochs):\n",
        "      for b in range(0, self.xdim, self.batch):\n",
        "        X_batch = self.X_train[b:b+self.batch]\n",
        "        Y_batch = self.Y_train[b:b+self.batch]\n",
        "        H, A, y = O.forwardPropagation(self.W, self.B, X_batch, self.num_layers, self.activation)\n",
        "        D_W, D_B = O.backwardPropagation(H, A, y, self.W, self.B, X_batch, Y_batch, self.num_layers, self.num_labels, self.activation)\n",
        "        D_W = np.flip(D_W)\n",
        "        D_B = np.flip(D_B)\n",
        "        if k==0:\n",
        "          mw = (1-beta1)*D_W\n",
        "          mb = (1-beta1)*D_B\n",
        "          uw = (1-beta2)*np.square(D_W)\n",
        "          ub = (1-beta2)*np.square(D_B)\n",
        "        else:\n",
        "          mw = beta1*mw + (1-beta1)*D_W\n",
        "          mb = beta1*mb + (1-beta1)*D_B\n",
        "          uw = beta2*uw + (1-beta2)*np.square(D_W)\n",
        "          ub = beta2*ub + (1-beta2)*np.square(D_B)\n",
        "\n",
        "        mw_hat = mw / (1-np.power(beta1,k+1))\n",
        "        mb_hat = mb / (1-np.power(beta1,k+1))\n",
        "        uw_hat = uw / (1-np.power(beta2,k+1))\n",
        "        ub_hat = ub / (1-np.power(beta2,k+1))\n",
        "        for i in range(self.num_layers+1):\n",
        "          self.W[i] = self.W[i] - self.neta/(np.sqrt(uw_hat[i]) + eps)*(beta1*mw_hat[i] + (1-beta1)*D_W[i] / (1-np.power(beta1,k+1))) - self.neta*self.wt_decay*self.W[i]\n",
        "          self.B[i] = self.B[i] - self.neta/(np.sqrt(ub_hat[i]) + eps)*(beta1*mb_hat[i] + (1-beta1)*D_B[i] / (1-np.power(beta1,k+1))) - self.neta*self.wt_decay*self.B[i] \n",
        "      \n",
        "      y_train_hat = self.feedForward(self.X_train)\n",
        "      y_val_hat = self.feedForward(self.X_val)\n",
        "      train_loss.append(self.calculateLoss(y_train_hat, self.Y_train))\n",
        "      train_acc.append(self.calculateAccuracy(y_train_hat, self.Y_train))\n",
        "      # print(\"Epoch {} : Loss:{}\\t Accuracy:{}\".format(k, train_loss[-1], train_acc[-1]))\n",
        "      val_loss.append(self.calculateLoss(y_val_hat, self.Y_val))\n",
        "      val_acc.append(self.calculateAccuracy(y_val_hat, self.Y_val))\n",
        "    return train_loss, train_acc, val_loss, val_acc\n",
        "\n",
        "  def accuracy(self, Y):\n",
        "    pred = np.argmax(Y, axis=1)\n",
        "    print(pred.shape)"
      ]
    },
    {
      "cell_type": "code",
      "execution_count": 11,
      "metadata": {
        "id": "1Pk3-mQrpedl"
      },
      "outputs": [],
      "source": [
        "def train():\n",
        "  wandb.init()\n",
        "# (self, num_layers = 3, hidden_size = 64, num_labels = 10, neta = 0.1, epochs = 10, X_train = X_train, Y_train = Y_train,\n",
        "#  batch = 64, w_init = \"xavier\", X_val = X_valid, Y_val = Y_valid, activation = 'sigmoid'):\n",
        "\n",
        "  num_layers = wandb.config.num_hidden_layer\n",
        "  hidden_size = wandb.config.hidden_size\n",
        "  activation = wandb.config.activation\n",
        "  epochs = wandb.config.epochs\n",
        "  optimizer_name = wandb.config.optimizer\n",
        "  neta = wandb.config.lr\n",
        "  batch = wandb.config.batch_size\n",
        "  w_init = wandb.config.weight_init\n",
        "  wt_decay = wandb.config.wt_decay\n",
        "\n",
        "  wandb.run.name = f'op_{optimizer_name}_hla_{activation}_lr_{neta}_hln_{num_layers}_hls_{hidden_size}_ep_{epochs}_bs_{batch}_winit_{w_init}_wt_decay_{wt_decay}'\n",
        "\n",
        "  F = feedforwardNeuralNetwork(neta = neta, hidden_size = hidden_size, num_layers = num_layers, X_train = Xtrain, Y_train = Ytrain, X_val = X_valid, Y_val = Y_valid, activation = activation, batch = batch, epochs = epochs, w_init = w_init, wt_decay = wt_decay)\n",
        "  if(optimizer_name == \"sgd\"):\n",
        "    train_loss, train_acc, val_loss, val_acc = F.stochasticGD()\n",
        "  elif (optimizer_name == \"momentum\"):\n",
        "    train_loss, train_acc, val_loss, val_acc = F.momentumGD()\n",
        "  elif (optimizer_name == \"nesterov\"):\n",
        "    train_loss, train_acc, val_loss, val_acc = F.nagGD()\n",
        "  elif (optimizer_name == \"rmsprop\"):\n",
        "    train_loss, train_acc, val_loss, val_acc = F.RMSprop()\n",
        "  elif (optimizer_name == \"adam\"):\n",
        "    train_loss, train_acc, val_loss, val_acc = F.adam()\n",
        "  elif (optimizer_name == \"nadam\"):\n",
        "    train_loss, train_acc, val_loss, val_acc = F.nAdam()\n",
        "\n",
        "  for i in range(len(train_loss)):\n",
        "    wandb.log({'training_loss': train_loss[i],\n",
        "              'training_accuracy': train_acc[i],\n",
        "              'validation_loss': val_loss[i],\n",
        "              'validation_accuracy': val_acc[i]\n",
        "              })"
      ]
    },
    {
      "cell_type": "code",
      "execution_count": null,
      "metadata": {
        "id": "UcAQTKJnp25-",
        "colab": {
          "base_uri": "https://localhost:8080/",
          "height": 1000,
          "referenced_widgets": [
            "8b5a6e3b7b164116ae4d0c40e824bcec",
            "dac64c72ddd44943bc9abcb20166f0f4",
            "d62538d819e34aaebd1e18247466b42f",
            "371e1a1714c04f68b7fc08216ca6eaf6",
            "e1e7dad837b5477c8ab9642bf0171c96",
            "29929c869aff447a9a5ae418cb0bd9f9",
            "de7c654373ee4bc5b87b761981be7ee3",
            "9c3af89933e6475f864ae3c757dd01b6"
          ]
        },
        "outputId": "f0d2d830-8ba4-4fd3-b427-b683a2a4db96"
      },
      "outputs": [
        {
          "output_type": "stream",
          "name": "stderr",
          "text": [
            "\u001b[34m\u001b[1mwandb\u001b[0m: W&B API key is configured. Use \u001b[1m`wandb login --relogin`\u001b[0m to force relogin\n",
            "\u001b[34m\u001b[1mwandb\u001b[0m: \u001b[33mWARNING\u001b[0m If you're specifying your api key in code, ensure this code is not shared publicly.\n",
            "\u001b[34m\u001b[1mwandb\u001b[0m: \u001b[33mWARNING\u001b[0m Consider setting the WANDB_API_KEY environment variable, or running `wandb login` from the command line.\n",
            "\u001b[34m\u001b[1mwandb\u001b[0m: Appending key for api.wandb.ai to your netrc file: /root/.netrc\n"
          ]
        },
        {
          "output_type": "stream",
          "name": "stdout",
          "text": [
            "Create sweep with ID: g3y5s5ho\n",
            "Sweep URL: https://wandb.ai/team_exe/dl-project_trial/sweeps/g3y5s5ho\n"
          ]
        },
        {
          "output_type": "stream",
          "name": "stderr",
          "text": [
            "\u001b[34m\u001b[1mwandb\u001b[0m: Agent Starting Run: kwyw15uu with config:\n",
            "\u001b[34m\u001b[1mwandb\u001b[0m: \tactivation: sigmoid\n",
            "\u001b[34m\u001b[1mwandb\u001b[0m: \tbatch_size: 64\n",
            "\u001b[34m\u001b[1mwandb\u001b[0m: \tepochs: 15\n",
            "\u001b[34m\u001b[1mwandb\u001b[0m: \thidden_size: 64\n",
            "\u001b[34m\u001b[1mwandb\u001b[0m: \tlr: 0.001\n",
            "\u001b[34m\u001b[1mwandb\u001b[0m: \tnum_hidden_layer: 3\n",
            "\u001b[34m\u001b[1mwandb\u001b[0m: \toptimizer: momentum\n",
            "\u001b[34m\u001b[1mwandb\u001b[0m: \tweight_init: xavier\n",
            "\u001b[34m\u001b[1mwandb\u001b[0m: \twt_decay: 0.0001\n",
            "\u001b[34m\u001b[1mwandb\u001b[0m: Currently logged in as: \u001b[33mcs22m074\u001b[0m (\u001b[33mteam_exe\u001b[0m). Use \u001b[1m`wandb login --relogin`\u001b[0m to force relogin\n"
          ]
        },
        {
          "output_type": "display_data",
          "data": {
            "text/plain": [
              "<IPython.core.display.HTML object>"
            ],
            "text/html": [
              "Tracking run with wandb version 0.14.0"
            ]
          },
          "metadata": {}
        },
        {
          "output_type": "display_data",
          "data": {
            "text/plain": [
              "<IPython.core.display.HTML object>"
            ],
            "text/html": [
              "Run data is saved locally in <code>/content/wandb/run-20230317_195113-kwyw15uu</code>"
            ]
          },
          "metadata": {}
        },
        {
          "output_type": "display_data",
          "data": {
            "text/plain": [
              "<IPython.core.display.HTML object>"
            ],
            "text/html": [
              "Syncing run <strong><a href='https://wandb.ai/team_exe/dl-project_trial/runs/kwyw15uu' target=\"_blank\">scarlet-sweep-1</a></strong> to <a href='https://wandb.ai/team_exe/dl-project_trial' target=\"_blank\">Weights & Biases</a> (<a href='https://wandb.me/run' target=\"_blank\">docs</a>)<br/>Sweep page: <a href='https://wandb.ai/team_exe/dl-project_trial/sweeps/g3y5s5ho' target=\"_blank\">https://wandb.ai/team_exe/dl-project_trial/sweeps/g3y5s5ho</a>"
            ]
          },
          "metadata": {}
        },
        {
          "output_type": "display_data",
          "data": {
            "text/plain": [
              "<IPython.core.display.HTML object>"
            ],
            "text/html": [
              " View project at <a href='https://wandb.ai/team_exe/dl-project_trial' target=\"_blank\">https://wandb.ai/team_exe/dl-project_trial</a>"
            ]
          },
          "metadata": {}
        },
        {
          "output_type": "display_data",
          "data": {
            "text/plain": [
              "<IPython.core.display.HTML object>"
            ],
            "text/html": [
              " View sweep at <a href='https://wandb.ai/team_exe/dl-project_trial/sweeps/g3y5s5ho' target=\"_blank\">https://wandb.ai/team_exe/dl-project_trial/sweeps/g3y5s5ho</a>"
            ]
          },
          "metadata": {}
        },
        {
          "output_type": "display_data",
          "data": {
            "text/plain": [
              "<IPython.core.display.HTML object>"
            ],
            "text/html": [
              " View run at <a href='https://wandb.ai/team_exe/dl-project_trial/runs/kwyw15uu' target=\"_blank\">https://wandb.ai/team_exe/dl-project_trial/runs/kwyw15uu</a>"
            ]
          },
          "metadata": {}
        },
        {
          "output_type": "stream",
          "name": "stderr",
          "text": [
            "/usr/local/lib/python3.9/dist-packages/numpy/lib/function_base.py:334: VisibleDeprecationWarning: Creating an ndarray from ragged nested sequences (which is a list-or-tuple of lists-or-tuples-or ndarrays with different lengths or shapes) is deprecated. If you meant to do this, you must specify 'dtype=object' when creating the ndarray.\n",
            "  m = asarray(m)\n"
          ]
        },
        {
          "output_type": "display_data",
          "data": {
            "text/plain": [
              "<IPython.core.display.HTML object>"
            ],
            "text/html": [
              "Waiting for W&B process to finish... <strong style=\"color:green\">(success).</strong>"
            ]
          },
          "metadata": {}
        },
        {
          "output_type": "display_data",
          "data": {
            "text/plain": [
              "VBox(children=(Label(value='0.001 MB of 0.009 MB uploaded (0.000 MB deduped)\\r'), FloatProgress(value=0.103558…"
            ],
            "application/vnd.jupyter.widget-view+json": {
              "version_major": 2,
              "version_minor": 0,
              "model_id": "8b5a6e3b7b164116ae4d0c40e824bcec"
            }
          },
          "metadata": {}
        },
        {
          "output_type": "display_data",
          "data": {
            "text/plain": [
              "<IPython.core.display.HTML object>"
            ],
            "text/html": [
              "<style>\n",
              "    table.wandb td:nth-child(1) { padding: 0 10px; text-align: left ; width: auto;} td:nth-child(2) {text-align: left ; width: 100%}\n",
              "    .wandb-row { display: flex; flex-direction: row; flex-wrap: wrap; justify-content: flex-start; width: 100% }\n",
              "    .wandb-col { display: flex; flex-direction: column; flex-basis: 100%; flex: 1; padding: 10px; }\n",
              "    </style>\n",
              "<div class=\"wandb-row\"><div class=\"wandb-col\"><h3>Run history:</h3><br/><table class=\"wandb\"><tr><td>training_accuracy</td><td>▁▃▄▅▅▆▆▆▆▇▇████</td></tr><tr><td>training_loss</td><td>█████▇▇▅▄▃▂▂▁▁▁</td></tr><tr><td>validation_accuracy</td><td>▁▃▄▅▅▆▆▆▆▇▇████</td></tr><tr><td>validation_loss</td><td>█████▇▇▅▄▃▂▂▁▁▁</td></tr></table><br/></div><div class=\"wandb-col\"><h3>Run summary:</h3><br/><table class=\"wandb\"><tr><td>training_accuracy</td><td>61.56667</td></tr><tr><td>training_loss</td><td>1.04072</td></tr><tr><td>validation_accuracy</td><td>61.93333</td></tr><tr><td>validation_loss</td><td>1.03409</td></tr></table><br/></div></div>"
            ]
          },
          "metadata": {}
        },
        {
          "output_type": "display_data",
          "data": {
            "text/plain": [
              "<IPython.core.display.HTML object>"
            ],
            "text/html": [
              " View run <strong style=\"color:#cdcd00\">scarlet-sweep-1</strong> at: <a href='https://wandb.ai/team_exe/dl-project_trial/runs/kwyw15uu' target=\"_blank\">https://wandb.ai/team_exe/dl-project_trial/runs/kwyw15uu</a><br/>Synced 5 W&B file(s), 0 media file(s), 0 artifact file(s) and 0 other file(s)"
            ]
          },
          "metadata": {}
        },
        {
          "output_type": "display_data",
          "data": {
            "text/plain": [
              "<IPython.core.display.HTML object>"
            ],
            "text/html": [
              "Find logs at: <code>./wandb/run-20230317_195113-kwyw15uu/logs</code>"
            ]
          },
          "metadata": {}
        },
        {
          "output_type": "stream",
          "name": "stderr",
          "text": [
            "\u001b[34m\u001b[1mwandb\u001b[0m: Agent Starting Run: urwmq0ge with config:\n",
            "\u001b[34m\u001b[1mwandb\u001b[0m: \tactivation: relu\n",
            "\u001b[34m\u001b[1mwandb\u001b[0m: \tbatch_size: 32\n",
            "\u001b[34m\u001b[1mwandb\u001b[0m: \tepochs: 15\n",
            "\u001b[34m\u001b[1mwandb\u001b[0m: \thidden_size: 64\n",
            "\u001b[34m\u001b[1mwandb\u001b[0m: \tlr: 0.001\n",
            "\u001b[34m\u001b[1mwandb\u001b[0m: \tnum_hidden_layer: 5\n",
            "\u001b[34m\u001b[1mwandb\u001b[0m: \toptimizer: momentum\n",
            "\u001b[34m\u001b[1mwandb\u001b[0m: \tweight_init: random\n",
            "\u001b[34m\u001b[1mwandb\u001b[0m: \twt_decay: 0.0001\n"
          ]
        },
        {
          "output_type": "display_data",
          "data": {
            "text/plain": [
              "<IPython.core.display.HTML object>"
            ],
            "text/html": [
              "Tracking run with wandb version 0.14.0"
            ]
          },
          "metadata": {}
        },
        {
          "output_type": "display_data",
          "data": {
            "text/plain": [
              "<IPython.core.display.HTML object>"
            ],
            "text/html": [
              "Run data is saved locally in <code>/content/wandb/run-20230317_195351-urwmq0ge</code>"
            ]
          },
          "metadata": {}
        },
        {
          "output_type": "display_data",
          "data": {
            "text/plain": [
              "<IPython.core.display.HTML object>"
            ],
            "text/html": [
              "Syncing run <strong><a href='https://wandb.ai/team_exe/dl-project_trial/runs/urwmq0ge' target=\"_blank\">toasty-sweep-2</a></strong> to <a href='https://wandb.ai/team_exe/dl-project_trial' target=\"_blank\">Weights & Biases</a> (<a href='https://wandb.me/run' target=\"_blank\">docs</a>)<br/>Sweep page: <a href='https://wandb.ai/team_exe/dl-project_trial/sweeps/g3y5s5ho' target=\"_blank\">https://wandb.ai/team_exe/dl-project_trial/sweeps/g3y5s5ho</a>"
            ]
          },
          "metadata": {}
        },
        {
          "output_type": "display_data",
          "data": {
            "text/plain": [
              "<IPython.core.display.HTML object>"
            ],
            "text/html": [
              " View project at <a href='https://wandb.ai/team_exe/dl-project_trial' target=\"_blank\">https://wandb.ai/team_exe/dl-project_trial</a>"
            ]
          },
          "metadata": {}
        },
        {
          "output_type": "display_data",
          "data": {
            "text/plain": [
              "<IPython.core.display.HTML object>"
            ],
            "text/html": [
              " View sweep at <a href='https://wandb.ai/team_exe/dl-project_trial/sweeps/g3y5s5ho' target=\"_blank\">https://wandb.ai/team_exe/dl-project_trial/sweeps/g3y5s5ho</a>"
            ]
          },
          "metadata": {}
        },
        {
          "output_type": "display_data",
          "data": {
            "text/plain": [
              "<IPython.core.display.HTML object>"
            ],
            "text/html": [
              " View run at <a href='https://wandb.ai/team_exe/dl-project_trial/runs/urwmq0ge' target=\"_blank\">https://wandb.ai/team_exe/dl-project_trial/runs/urwmq0ge</a>"
            ]
          },
          "metadata": {}
        }
      ],
      "source": [
        "sweep_configuration = {\n",
        "    'method': 'random',\n",
        "    'name': 'dl-project',\n",
        "    'metric': {\n",
        "        'goal': 'minimize', \n",
        "        'name': 'validation_loss'\n",
        "        },\n",
        "    'parameters': {\n",
        "        'batch_size': {'values': [16, 32, 64]},\n",
        "        'epochs': {'values': [10, 15]},\n",
        "        'num_hidden_layer':{'values' : [3, 4, 5]},\n",
        "        'hidden_size': {'values' : [32, 64, 128]},\n",
        "        'lr': {'values' : [1e-2, 1e-3, 1e-4]},\n",
        "        'optimizer':{'values' : ['sgd', 'momentum', 'nesterov', 'rmsprop', 'adam', 'nadam']},\n",
        "        'weight_init':{'values' : ['random','xavier']},\n",
        "        'activation' : {'values' : ['sigmoid','tanh','relu']},\n",
        "        'wt_decay': {'values' : [0, 0.0001, 0.001]},\n",
        "     }\n",
        "}\n",
        "\n",
        "wandb.login(key = '5b3ff6cba361172038b8948f6dace9286a5bbfa0')\n",
        "\n",
        "\n",
        "sweep_id = wandb.sweep(sweep=sweep_configuration, project='dl-project_trial')\n",
        "wandb.agent(sweep_id, function=train, count = 5)\n",
        "wandb.finish()"
      ]
    },
    {
      "cell_type": "code",
      "execution_count": null,
      "metadata": {
        "id": "kBmsqiGSrDjD"
      },
      "outputs": [],
      "source": [
        "F = feedforwardNeuralNetwork(neta = 0.001, hidden_size = 128, num_layers = 4, X_train = Xtrain, Y_train = Ytrain, X_val = X_valid, Y_val = Y_valid, activation=\"relu\", batch = 32, epochs = 5, wt_decay = 0.005)\n",
        "train_loss, train_acc, val_loss, val_acc = F.stochasticGD()\n",
        "print(train_loss)\n",
        "print(train_acc)"
      ]
    },
    {
      "cell_type": "code",
      "execution_count": null,
      "metadata": {
        "id": "-8wcZbK8zLdm"
      },
      "outputs": [],
      "source": [
        "F = feedforwardNeuralNetwork(neta = 0.05, hidden_size = 64, num_layers = 3, X_train = Xtrain, Y_train = Ytrain, X_val = X_valid, Y_val = Y_valid, activation=\"tanh\")\n",
        "train_loss, train_acc, val_loss, val_acc = F.stochasticGD()\n",
        "print(train_loss)\n",
        "print(train_acc)"
      ]
    },
    {
      "cell_type": "code",
      "execution_count": null,
      "metadata": {
        "id": "e8JYg1SrdvhP"
      },
      "outputs": [],
      "source": [
        "F = feedforwardNeuralNetwork(neta = 0.05, hidden_size = 64, num_layers = 3, X_train = Xtrain, Y_train = Ytrain, X_val = X_valid, Y_val = Y_valid, activation=\"tanh\")\n",
        "train_loss, train_acc, val_loss, val_acc = F.nagGD()\n",
        "print(train_loss)\n",
        "print(train_acc)"
      ]
    },
    {
      "cell_type": "code",
      "execution_count": null,
      "metadata": {
        "id": "VtJC8xrVCoRV"
      },
      "outputs": [],
      "source": [
        "F = feedforwardNeuralNetwork(neta = 0.0001, hidden_size = 32, num_layers = 3, X_train = Xtrain, Y_train = Ytrain, X_val = X_valid, Y_val = Y_valid, activation=\"relu\")\n",
        "train_loss, train_acc, val_loss, val_acc = F.RMSprop()\n",
        "print(train_loss)\n",
        "print(train_acc)"
      ]
    },
    {
      "cell_type": "code",
      "execution_count": null,
      "metadata": {
        "id": "G-D6ZoAUheCy",
        "colab": {
          "base_uri": "https://localhost:8080/"
        },
        "outputId": "af2e8a59-0b44-48b8-fe2f-4c4f1fa29f16"
      },
      "outputs": [
        {
          "output_type": "stream",
          "name": "stderr",
          "text": [
            "/usr/local/lib/python3.9/dist-packages/numpy/lib/function_base.py:334: VisibleDeprecationWarning: Creating an ndarray from ragged nested sequences (which is a list-or-tuple of lists-or-tuples-or ndarrays with different lengths or shapes) is deprecated. If you meant to do this, you must specify 'dtype=object' when creating the ndarray.\n",
            "  m = asarray(m)\n"
          ]
        },
        {
          "output_type": "stream",
          "name": "stdout",
          "text": [
            "[1.5211574894585227, 0.9421931598052203, 0.9044758323445211, 0.8112898571551503, 0.7444472325060881, 0.7772376930178331, 0.7341549192222239, 0.7124169171045199, 0.7064993790492538, 0.7099943160912624]\n",
            "[48.43703703703704, 60.32592592592593, 60.62037037037037, 67.99814814814815, 71.68333333333334, 69.97222222222223, 72.27592592592592, 73.30185185185185, 73.73148148148148, 73.74259259259259]\n"
          ]
        }
      ],
      "source": [
        "F = feedforwardNeuralNetwork(neta = 0.05, hidden_size = 64, num_layers = 3, X_train = Xtrain, Y_train = Ytrain, X_val = X_valid, Y_val = Y_valid, activation=\"relu\", wt_decay = 0.001)\n",
        "train_loss, train_acc, val_loss, val_acc = F.adam()\n",
        "print(train_loss)\n",
        "print(train_acc)"
      ]
    },
    {
      "cell_type": "code",
      "execution_count": null,
      "metadata": {
        "id": "MLiyt27pYymX"
      },
      "outputs": [],
      "source": [
        "F = feedforwardNeuralNetwork(neta = 0.005, hidden_size = 64, num_layers = 3, X_train = Xtrain, Y_train = Ytrain, X_val = X_valid, Y_val = Y_valid, activation=\"sigmoid\")\n",
        "train_loss, train_acc, val_loss, val_acc = F.nAdam()\n",
        "print(train_loss)\n",
        "print(train_acc)"
      ]
    },
    {
      "cell_type": "code",
      "execution_count": null,
      "metadata": {
        "id": "7Z9QqEIjY1G-"
      },
      "outputs": [],
      "source": [
        "# X_mini = np.reshape(X_train, (60000,784))/255\n",
        "# num_data_points = 32000\n",
        "# X_mini = X_mini[:num_data_points]\n",
        "# Y_mini = Y_train[:num_data_points]\n",
        "# F = feedforwardNeuralNetwork(neta = 0.05, hidden_size = 32, num_layers = 3, X_train = X_mini, Y_train = Y_mini)\n",
        "# F.nagGD()\n",
        "\n",
        "# y_hat = F.feedForward(X_mini)\n",
        "# pred = np.argmax(y_hat, axis=0)\n",
        "# # print(Y_test[:5])\n",
        "# # print(pred)\n",
        "# accuracy = np.mean(pred==Y_mini)\n",
        "# print(\"Train Accuracy : {}\".format(accuracy))\n",
        "\n",
        "# Xtest = np.reshape(X_test, (10000,784))/255\n",
        "# y_hat = F.feedForward(Xtest)\n",
        "# pred = np.argmax(y_hat, axis=0)\n",
        "# # print(Y)\n",
        "# # print(pred)\n",
        "# accuracy = np.mean(pred==Y_test)\n",
        "# print(\"Test Accuracy : {}\".format(accuracy))"
      ]
    }
  ],
  "metadata": {
    "colab": {
      "provenance": [],
      "authorship_tag": "ABX9TyMHIbM8HOOk4eQXUKxDwEx1",
      "include_colab_link": true
    },
    "kernelspec": {
      "display_name": "Python 3",
      "name": "python3"
    },
    "language_info": {
      "name": "python"
    },
    "widgets": {
      "application/vnd.jupyter.widget-state+json": {
        "8b5a6e3b7b164116ae4d0c40e824bcec": {
          "model_module": "@jupyter-widgets/controls",
          "model_name": "VBoxModel",
          "model_module_version": "1.5.0",
          "state": {
            "_dom_classes": [],
            "_model_module": "@jupyter-widgets/controls",
            "_model_module_version": "1.5.0",
            "_model_name": "VBoxModel",
            "_view_count": null,
            "_view_module": "@jupyter-widgets/controls",
            "_view_module_version": "1.5.0",
            "_view_name": "VBoxView",
            "box_style": "",
            "children": [
              "IPY_MODEL_dac64c72ddd44943bc9abcb20166f0f4",
              "IPY_MODEL_d62538d819e34aaebd1e18247466b42f"
            ],
            "layout": "IPY_MODEL_371e1a1714c04f68b7fc08216ca6eaf6"
          }
        },
        "dac64c72ddd44943bc9abcb20166f0f4": {
          "model_module": "@jupyter-widgets/controls",
          "model_name": "LabelModel",
          "model_module_version": "1.5.0",
          "state": {
            "_dom_classes": [],
            "_model_module": "@jupyter-widgets/controls",
            "_model_module_version": "1.5.0",
            "_model_name": "LabelModel",
            "_view_count": null,
            "_view_module": "@jupyter-widgets/controls",
            "_view_module_version": "1.5.0",
            "_view_name": "LabelView",
            "description": "",
            "description_tooltip": null,
            "layout": "IPY_MODEL_e1e7dad837b5477c8ab9642bf0171c96",
            "placeholder": "​",
            "style": "IPY_MODEL_29929c869aff447a9a5ae418cb0bd9f9",
            "value": "0.001 MB of 0.009 MB uploaded (0.000 MB deduped)\r"
          }
        },
        "d62538d819e34aaebd1e18247466b42f": {
          "model_module": "@jupyter-widgets/controls",
          "model_name": "FloatProgressModel",
          "model_module_version": "1.5.0",
          "state": {
            "_dom_classes": [],
            "_model_module": "@jupyter-widgets/controls",
            "_model_module_version": "1.5.0",
            "_model_name": "FloatProgressModel",
            "_view_count": null,
            "_view_module": "@jupyter-widgets/controls",
            "_view_module_version": "1.5.0",
            "_view_name": "ProgressView",
            "bar_style": "",
            "description": "",
            "description_tooltip": null,
            "layout": "IPY_MODEL_de7c654373ee4bc5b87b761981be7ee3",
            "max": 1,
            "min": 0,
            "orientation": "horizontal",
            "style": "IPY_MODEL_9c3af89933e6475f864ae3c757dd01b6",
            "value": 0.10355820649938297
          }
        },
        "371e1a1714c04f68b7fc08216ca6eaf6": {
          "model_module": "@jupyter-widgets/base",
          "model_name": "LayoutModel",
          "model_module_version": "1.2.0",
          "state": {
            "_model_module": "@jupyter-widgets/base",
            "_model_module_version": "1.2.0",
            "_model_name": "LayoutModel",
            "_view_count": null,
            "_view_module": "@jupyter-widgets/base",
            "_view_module_version": "1.2.0",
            "_view_name": "LayoutView",
            "align_content": null,
            "align_items": null,
            "align_self": null,
            "border": null,
            "bottom": null,
            "display": null,
            "flex": null,
            "flex_flow": null,
            "grid_area": null,
            "grid_auto_columns": null,
            "grid_auto_flow": null,
            "grid_auto_rows": null,
            "grid_column": null,
            "grid_gap": null,
            "grid_row": null,
            "grid_template_areas": null,
            "grid_template_columns": null,
            "grid_template_rows": null,
            "height": null,
            "justify_content": null,
            "justify_items": null,
            "left": null,
            "margin": null,
            "max_height": null,
            "max_width": null,
            "min_height": null,
            "min_width": null,
            "object_fit": null,
            "object_position": null,
            "order": null,
            "overflow": null,
            "overflow_x": null,
            "overflow_y": null,
            "padding": null,
            "right": null,
            "top": null,
            "visibility": null,
            "width": null
          }
        },
        "e1e7dad837b5477c8ab9642bf0171c96": {
          "model_module": "@jupyter-widgets/base",
          "model_name": "LayoutModel",
          "model_module_version": "1.2.0",
          "state": {
            "_model_module": "@jupyter-widgets/base",
            "_model_module_version": "1.2.0",
            "_model_name": "LayoutModel",
            "_view_count": null,
            "_view_module": "@jupyter-widgets/base",
            "_view_module_version": "1.2.0",
            "_view_name": "LayoutView",
            "align_content": null,
            "align_items": null,
            "align_self": null,
            "border": null,
            "bottom": null,
            "display": null,
            "flex": null,
            "flex_flow": null,
            "grid_area": null,
            "grid_auto_columns": null,
            "grid_auto_flow": null,
            "grid_auto_rows": null,
            "grid_column": null,
            "grid_gap": null,
            "grid_row": null,
            "grid_template_areas": null,
            "grid_template_columns": null,
            "grid_template_rows": null,
            "height": null,
            "justify_content": null,
            "justify_items": null,
            "left": null,
            "margin": null,
            "max_height": null,
            "max_width": null,
            "min_height": null,
            "min_width": null,
            "object_fit": null,
            "object_position": null,
            "order": null,
            "overflow": null,
            "overflow_x": null,
            "overflow_y": null,
            "padding": null,
            "right": null,
            "top": null,
            "visibility": null,
            "width": null
          }
        },
        "29929c869aff447a9a5ae418cb0bd9f9": {
          "model_module": "@jupyter-widgets/controls",
          "model_name": "DescriptionStyleModel",
          "model_module_version": "1.5.0",
          "state": {
            "_model_module": "@jupyter-widgets/controls",
            "_model_module_version": "1.5.0",
            "_model_name": "DescriptionStyleModel",
            "_view_count": null,
            "_view_module": "@jupyter-widgets/base",
            "_view_module_version": "1.2.0",
            "_view_name": "StyleView",
            "description_width": ""
          }
        },
        "de7c654373ee4bc5b87b761981be7ee3": {
          "model_module": "@jupyter-widgets/base",
          "model_name": "LayoutModel",
          "model_module_version": "1.2.0",
          "state": {
            "_model_module": "@jupyter-widgets/base",
            "_model_module_version": "1.2.0",
            "_model_name": "LayoutModel",
            "_view_count": null,
            "_view_module": "@jupyter-widgets/base",
            "_view_module_version": "1.2.0",
            "_view_name": "LayoutView",
            "align_content": null,
            "align_items": null,
            "align_self": null,
            "border": null,
            "bottom": null,
            "display": null,
            "flex": null,
            "flex_flow": null,
            "grid_area": null,
            "grid_auto_columns": null,
            "grid_auto_flow": null,
            "grid_auto_rows": null,
            "grid_column": null,
            "grid_gap": null,
            "grid_row": null,
            "grid_template_areas": null,
            "grid_template_columns": null,
            "grid_template_rows": null,
            "height": null,
            "justify_content": null,
            "justify_items": null,
            "left": null,
            "margin": null,
            "max_height": null,
            "max_width": null,
            "min_height": null,
            "min_width": null,
            "object_fit": null,
            "object_position": null,
            "order": null,
            "overflow": null,
            "overflow_x": null,
            "overflow_y": null,
            "padding": null,
            "right": null,
            "top": null,
            "visibility": null,
            "width": null
          }
        },
        "9c3af89933e6475f864ae3c757dd01b6": {
          "model_module": "@jupyter-widgets/controls",
          "model_name": "ProgressStyleModel",
          "model_module_version": "1.5.0",
          "state": {
            "_model_module": "@jupyter-widgets/controls",
            "_model_module_version": "1.5.0",
            "_model_name": "ProgressStyleModel",
            "_view_count": null,
            "_view_module": "@jupyter-widgets/base",
            "_view_module_version": "1.2.0",
            "_view_name": "StyleView",
            "bar_color": null,
            "description_width": ""
          }
        }
      }
    }
  },
  "nbformat": 4,
  "nbformat_minor": 0
}